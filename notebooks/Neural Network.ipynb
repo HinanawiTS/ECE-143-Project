{
 "cells": [
  {
   "cell_type": "code",
   "execution_count": 1,
   "metadata": {},
   "outputs": [
    {
     "name": "stdout",
     "output_type": "stream",
     "text": [
      "40461\n"
     ]
    }
   ],
   "source": [
    "import numpy as np \n",
    "import pandas as pd\n",
    "import json\n",
    "from mplsoccer.pitch import Pitch, VerticalPitch\n",
    "\n",
    "\n",
    "path = \"C:/Users/brand/desktop/events/events_England.json\" \n",
    "\n",
    "with open(path) as f:\n",
    "    data = json.load(f)\n",
    "\n",
    "train = pd.DataFrame(data)\n",
    "\n",
    "\n",
    "path2 = \"C:/Users/brand/desktop/players.json\" \n",
    "\n",
    "\n",
    "with open(path2) as f:\n",
    "    play = json.load(f)\n",
    "\n",
    "players = pd.DataFrame(play)\n",
    "\n",
    "lst = ['events_France.json','events_Germany.json','events_Italy.json','events_Spain.json']\n",
    "pathway = \"C:/Users/brand/desktop/events/\"\n",
    "\n",
    "for country in lst:\n",
    "    with open(pathway + country) as f:\n",
    "        datal = json.load(f)\n",
    "        tl = pd.DataFrame(datal)\n",
    "        train = pd.concat([train,tl],ignore_index=True)\n",
    "\n",
    "\n",
    "\n",
    "\n",
    "#pd.unique(train['subEventName'])\n",
    "shots = train[train['subEventName'] == 'Shot']\n",
    "\n",
    "print(len(shots))\n",
    "\n",
    "shots_model = pd.DataFrame(columns=[\"Goal\",\"X\",\"Y\"], dtype=object)\n",
    "\n",
    "for i,shot in shots.iterrows():\n",
    "    \n",
    "    \n",
    "    shots_model.at[i,'Header'] = 0\n",
    "    for tag in shot['tags']:\n",
    "        if tag['id'] == 403:\n",
    "            shots_model.at[i,'Header'] = 1\n",
    "    \n",
    "    \n",
    "    #take distance from center of goal at y = 50, x position of goal is always 100\n",
    "    shots_model.at[i,'X'] = 100-shot['positions'][0]['x']\n",
    "    shots_model.at[i,'Y'] = shot['positions'][0]['y']\n",
    "    shots_model.at[i,'C'] = abs(shot['positions'][0]['y'] - 50)\n",
    "        \n",
    "    #distance in meters\n",
    "        \n",
    "    x = shots_model.at[i,'X']* 105/100\n",
    "    y = shots_model.at[i,'C']* 65/100\n",
    "    shots_model.at[i,'Distance'] = np.sqrt(x**2 + y**2)\n",
    "        \n",
    "    angle = np.arctan(7.32 * x / (x**2 + y**2 - (7.32/2)**2))\n",
    "        \n",
    "    if angle < 0:\n",
    "        angle = np.pi + angle\n",
    "        \n",
    "    shots_model.at[i,'Angle'] = angle\n",
    "        \n",
    "    #goal check\n",
    "    shots_model.at[i,'Goal'] = 0\n",
    "    shots_model.at[i,'Counter Attack'] = 0\n",
    "    shots_model.at[i, 'Blocked'] = 0\n",
    "    shots_model.at[i, 'Right Foot'] = 0\n",
    "    shots_model.at[i,'wyId'] = shot['playerId']\n",
    "    \n",
    "    if shot['matchPeriod'] == '1H':\n",
    "        shots_model.at[i, 'First Half'] = 1\n",
    "    \n",
    "    else:\n",
    "        shots_model.at[i,'First Half'] = 0\n",
    "        \n",
    "    for tags in shot['tags']:\n",
    "        if tags['id'] == 101:\n",
    "            shots_model.at[i,'Goal'] = 1\n",
    "            \n",
    "        if tags['id'] == 1901:\n",
    "            shots_model.at[i, 'Counter Attack'] = 1\n",
    "        \n",
    "        if tags['id'] == 2101:\n",
    "            shots_model.at[i, 'Blocked'] = 1\n",
    "        \n",
    "        if tags['id'] == 402:\n",
    "            shots_model.at[i, 'Right Foot'] = 1\n",
    "            \n",
    "            \n",
    "        \n",
    "shots_model['angle_degrees'] = shots_model['Angle'] * 180 / np.pi\n",
    "\n",
    "shots_model = shots_model.merge(players, left_on = 'wyId' , right_on = 'wyId')\n",
    "\n",
    "for i,shot in shots_model.iterrows():\n",
    "    shots_model.at[i, 'strong foot'] = 0\n",
    "    \n",
    "    if shot['Right Foot'] == 1:\n",
    "        if shot['foot'] == 'right':\n",
    "            shots_model.at[i, 'strong foot'] = 1\n",
    "    \n",
    "    elif shot['Right Foot'] == 0:\n",
    "        if shot['foot'] == 'left':\n",
    "            shots_model.at[i, 'strong foot'] = 1\n",
    "\n",
    "\n",
    "pitch = Pitch(pitch_color ='black', line_color = 'white', stripe=False,pitch_type='wyscout')\n",
    "\n",
    "fig,ax = pitch.draw(figsize=(10,8))\n",
    "\n",
    "df = shots_model.loc[shots_model['Goal'] == 1]\n",
    "xpos = df[\"X\"]\n",
    "ypos = df[\"Y\"]\n",
    "\n",
    "df_nongoals = shots_model.loc[shots_model['Goal'] == 0]\n",
    "xpos2 = df_nongoals[\"X\"]\n",
    "ypos2 = df_nongoals[\"Y\"]\n",
    "\n",
    "\n",
    "\n",
    "head = shots_model[shots_model['Header'] == 1]\n",
    "counter = shots_model[shots_model['Counter Attack'] == 1]\n",
    "strong = shots_model[shots_model['strong foot'] == 1]\n",
    "first = shots_model[shots_model['First Half'] == 1]\n",
    "head_df = head.loc[head['Goal'] == 1]\n",
    "strong_goal = strong.loc[strong['Goal'] == 1]\n",
    "\n",
    "headed_goals = len(head_df)"
   ]
  },
  {
   "cell_type": "code",
   "execution_count": 10,
   "metadata": {},
   "outputs": [
    {
     "name": "stdout",
     "output_type": "stream",
     "text": [
      "   Header   Distance     Angle  Counter Attack  strong foot  First Half\n",
      "0     0.0  13.891814  0.474451             0.0          1.0         1.0\n",
      "1     0.0  13.711765  0.519737             0.0          1.0         1.0\n",
      "2     0.0  14.778701  0.358683             0.0          0.0         0.0\n",
      "3     0.0  15.243113  0.337590             0.0          1.0         0.0\n",
      "4     0.0  19.602296  0.357062             0.0          1.0         1.0\n"
     ]
    },
    {
     "name": "stderr",
     "output_type": "stream",
     "text": [
      "C:\\Users\\brand\\Anaconda3\\lib\\site-packages\\ipykernel_launcher.py:5: SettingWithCopyWarning: \n",
      "A value is trying to be set on a copy of a slice from a DataFrame.\n",
      "Try using .loc[row_indexer,col_indexer] = value instead\n",
      "\n",
      "See the caveats in the documentation: http://pandas.pydata.org/pandas-docs/stable/indexing.html#indexing-view-versus-copy\n",
      "  \"\"\"\n"
     ]
    }
   ],
   "source": [
    "from sklearn.model_selection import train_test_split\n",
    "\n",
    "X_full = shots_model[[\"Header\",\"Distance\", \"Angle\",\"Counter Attack\",\"strong foot\", \"First Half\"]]\n",
    "y_full = shots_model[[\"Goal\"]]\n",
    "y_full['Goal'] = y_full['Goal'].astype(int)\n",
    "print(X_full.head())\n",
    "\n",
    "X_train,X_test,y_train,y_test = train_test_split(X_full,y_full,test_size = 0.15,random_state=2)\n",
    "\n",
    "X_train,X_val,y_train,y_val = train_test_split(X_train,y_train,test_size = 0.176, random_state=2)"
   ]
  },
  {
   "cell_type": "code",
   "execution_count": 11,
   "metadata": {},
   "outputs": [
    {
     "name": "stdout",
     "output_type": "stream",
     "text": [
      "(28336, 6)\n",
      "(28336,)\n"
     ]
    }
   ],
   "source": [
    "y_val = np.array(y_val.pop('Goal'))\n",
    "y_test = np.array(y_test.pop('Goal'))\n",
    "y_train = np.array(y_train.pop('Goal'))\n",
    "\n",
    "\n",
    "X_train = X_train.to_numpy()\n",
    "X_test = X_test.to_numpy()\n",
    "X_val = X_val.to_numpy()\n",
    "print(X_train.shape)\n",
    "print(y_train.shape)       "
   ]
  },
  {
   "cell_type": "code",
   "execution_count": 14,
   "metadata": {},
   "outputs": [
    {
     "name": "stdout",
     "output_type": "stream",
     "text": [
      "0.10556626625142122\n"
     ]
    }
   ],
   "source": [
    "\"\"\"Class imbalance\"\"\"\n",
    "\n",
    "negative,positive = np.bincount(y_full['Goal'])\n",
    "\n",
    "print(positive/(negative+positive))\n"
   ]
  },
  {
   "cell_type": "code",
   "execution_count": 4,
   "metadata": {},
   "outputs": [
    {
     "data": {
      "text/plain": [
       "'Feed Forward Neural Network'"
      ]
     },
     "execution_count": 4,
     "metadata": {},
     "output_type": "execute_result"
    }
   ],
   "source": [
    "\"\"\"Feed Forward Neural Network\"\"\""
   ]
  },
  {
   "cell_type": "code",
   "execution_count": 15,
   "metadata": {},
   "outputs": [],
   "source": [
    "import tensorflow as tf\n",
    "from tensorflow import keras \n",
    "import sklearn \n",
    "from sklearn.preprocessing import StandardScaler"
   ]
  },
  {
   "cell_type": "code",
   "execution_count": 19,
   "metadata": {},
   "outputs": [],
   "source": [
    "scaler = StandardScaler()\n",
    "train_feats = scaler.fit_transform(X_train)\n",
    "\n",
    "val_feats = scaler.transform(X_val)\n",
    "test_feats = scaler.transform(X_test)\n",
    "\n",
    "\n",
    "train_feats = np.clip(train_feats,-5,5)\n",
    "val_feats = np.clip(val_feats,-5,5)\n",
    "test_feats = np.clip(test_feats,-5,5)\n",
    "\n",
    "\n"
   ]
  },
  {
   "cell_type": "code",
   "execution_count": 198,
   "metadata": {},
   "outputs": [],
   "source": [
    "boolean_train_labels = y_train != 0\n",
    "\n",
    "\n",
    "METRICS = [\n",
    "      keras.metrics.TruePositives(name='tp'),\n",
    "      keras.metrics.FalsePositives(name='fp'),\n",
    "      keras.metrics.TrueNegatives(name='tn'),\n",
    "      keras.metrics.FalseNegatives(name='fn'), \n",
    "      keras.metrics.BinaryAccuracy(name='accuracy'),\n",
    "      keras.metrics.Precision(name='precision'),\n",
    "      keras.metrics.Recall(name='recall'),\n",
    "      keras.metrics.AUC(name='auc'),\n",
    "      keras.metrics.AUC(name='prc', curve='PR'), # precision-recall curve\n",
    "]\n",
    "\n",
    "def make_model(metrics=METRICS, output_bias=None):\n",
    "    if output_bias is not None:\n",
    "        output_bias = tf.keras.initializers.Constant(output_bias)\n",
    "    model = keras.Sequential([\n",
    "        keras.layers.Dense(\n",
    "            25, activation='relu',\n",
    "            input_shape=(train_feats.shape[-1],)),\n",
    "        keras.layers.Dense(\n",
    "            25, activation='relu',\n",
    "            input_shape=(train_feats.shape[-1],)),keras.layers.Dropout(0.5),\n",
    "        \n",
    "        keras.layers.Dense(1, activation='sigmoid',bias_initializer=output_bias),\n",
    "  ])\n",
    "\n",
    "    model.compile(\n",
    "        optimizer=keras.optimizers.Adam(learning_rate=0.001),\n",
    "        loss=keras.losses.BinaryCrossentropy(),\n",
    "        metrics=metrics)\n",
    "\n",
    "    return model\n"
   ]
  },
  {
   "cell_type": "code",
   "execution_count": 199,
   "metadata": {},
   "outputs": [
    {
     "name": "stdout",
     "output_type": "stream",
     "text": [
      "Model: \"sequential_50\"\n",
      "_________________________________________________________________\n",
      " Layer (type)                Output Shape              Param #   \n",
      "=================================================================\n",
      " dense_142 (Dense)           (None, 25)                175       \n",
      "                                                                 \n",
      " dense_143 (Dense)           (None, 25)                650       \n",
      "                                                                 \n",
      " dropout_30 (Dropout)        (None, 25)                0         \n",
      "                                                                 \n",
      " dense_144 (Dense)           (None, 1)                 26        \n",
      "                                                                 \n",
      "=================================================================\n",
      "Total params: 851\n",
      "Trainable params: 851\n",
      "Non-trainable params: 0\n",
      "_________________________________________________________________\n"
     ]
    }
   ],
   "source": [
    "EPOCHS = 100\n",
    "BATCH_SIZE = 256\n",
    "\n",
    "early_stopping = tf.keras.callbacks.EarlyStopping(monitor = 'val_prc',verbose=1,patience=10,mode='max',restore_best_weights=True)\n",
    "\n",
    "model = make_model()\n",
    "model.summary()"
   ]
  },
  {
   "cell_type": "code",
   "execution_count": 200,
   "metadata": {},
   "outputs": [],
   "source": [
    "\"\"\"Initialize bias\"\"\"\n",
    "\n",
    "orig_bias = np.log([positive/negative])\n",
    "model = make_model(output_bias=orig_bias)\n",
    "\n"
   ]
  },
  {
   "cell_type": "code",
   "execution_count": 201,
   "metadata": {},
   "outputs": [],
   "source": [
    "import os \n",
    "import tempfile\n",
    "\n",
    "initial_weights = os.path.join(tempfile.mkdtemp(), 'initial_weights')\n",
    "model.save_weights(initial_weights)\n"
   ]
  },
  {
   "cell_type": "code",
   "execution_count": 202,
   "metadata": {},
   "outputs": [],
   "source": [
    "model = make_model()\n",
    "model.load_weights(initial_weights)\n",
    "careful_bias_history = model.fit(\n",
    "    train_feats,\n",
    "    y_train,\n",
    "    batch_size=BATCH_SIZE,\n",
    "    epochs=100,\n",
    "    validation_data=(val_feats, y_val), \n",
    "    verbose=0)"
   ]
  },
  {
   "cell_type": "code",
   "execution_count": 203,
   "metadata": {},
   "outputs": [],
   "source": [
    "import matplotlib.pyplot as plt\n",
    "\n",
    "\n",
    "def plot_loss(history, label):\n",
    "  # Use a log scale on y-axis to show the wide range of values.\n",
    "    plt.semilogy(history.epoch, history.history['loss'],\n",
    "               'b', label='Train ' + label)\n",
    "    plt.semilogy(history.epoch, history.history['val_loss'],\n",
    "               color='r', label='Val ' + label,\n",
    "               linestyle=\"--\")\n",
    "    plt.xlabel('Epoch')\n",
    "    plt.ylabel('Loss')"
   ]
  },
  {
   "cell_type": "code",
   "execution_count": 204,
   "metadata": {},
   "outputs": [
    {
     "data": {
      "image/png": "[encoded data removed]",
      "text/plain": [
       "<Figure size 432x288 with 1 Axes>"
      ]
     },
     "metadata": {
      "needs_background": "light"
     },
     "output_type": "display_data"
    }
   ],
   "source": [
    "plot_loss(careful_bias_history,\"Bias\")"
   ]
  },
  {
   "cell_type": "code",
   "execution_count": 205,
   "metadata": {},
   "outputs": [
    {
     "name": "stdout",
     "output_type": "stream",
     "text": [
      "Epoch 1/100\n",
      "111/111 [==============================] - 2s 7ms/step - loss: 0.3133 - tp: 96.0000 - fp: 59.0000 - tn: 30703.0000 - fn: 3531.0000 - accuracy: 0.8956 - precision: 0.6194 - recall: 0.0265 - auc: 0.7111 - prc: 0.2528 - val_loss: 0.2871 - val_tp: 18.0000 - val_fp: 4.0000 - val_tn: 5416.0000 - val_fn: 615.0000 - val_accuracy: 0.8977 - val_precision: 0.8182 - val_recall: 0.0284 - val_auc: 0.7721 - val_prc: 0.3476\n",
      "Epoch 2/100\n",
      "111/111 [==============================] - 0s 2ms/step - loss: 0.2933 - tp: 212.0000 - fp: 142.0000 - tn: 25200.0000 - fn: 2782.0000 - accuracy: 0.8968 - precision: 0.5989 - recall: 0.0708 - auc: 0.7608 - prc: 0.3120 - val_loss: 0.2827 - val_tp: 45.0000 - val_fp: 19.0000 - val_tn: 5401.0000 - val_fn: 588.0000 - val_accuracy: 0.8997 - val_precision: 0.7031 - val_recall: 0.0711 - val_auc: 0.7760 - val_prc: 0.3517\n",
      "Epoch 3/100\n",
      "111/111 [==============================] - 0s 2ms/step - loss: 0.2926 - tp: 209.0000 - fp: 163.0000 - tn: 25179.0000 - fn: 2785.0000 - accuracy: 0.8960 - precision: 0.5618 - recall: 0.0698 - auc: 0.7648 - prc: 0.3093 - val_loss: 0.2827 - val_tp: 53.0000 - val_fp: 20.0000 - val_tn: 5400.0000 - val_fn: 580.0000 - val_accuracy: 0.9009 - val_precision: 0.7260 - val_recall: 0.0837 - val_auc: 0.7765 - val_prc: 0.3483\n",
      "Epoch 4/100\n",
      "111/111 [==============================] - 0s 2ms/step - loss: 0.2908 - tp: 233.0000 - fp: 198.0000 - tn: 25144.0000 - fn: 2761.0000 - accuracy: 0.8956 - precision: 0.5406 - recall: 0.0778 - auc: 0.7691 - prc: 0.3168 - val_loss: 0.2823 - val_tp: 62.0000 - val_fp: 30.0000 - val_tn: 5390.0000 - val_fn: 571.0000 - val_accuracy: 0.9007 - val_precision: 0.6739 - val_recall: 0.0979 - val_auc: 0.7776 - val_prc: 0.3516\n",
      "Epoch 5/100\n",
      "111/111 [==============================] - 0s 2ms/step - loss: 0.2897 - tp: 238.0000 - fp: 181.0000 - tn: 25161.0000 - fn: 2756.0000 - accuracy: 0.8964 - precision: 0.5680 - recall: 0.0795 - auc: 0.7714 - prc: 0.3206 - val_loss: 0.2824 - val_tp: 46.0000 - val_fp: 18.0000 - val_tn: 5402.0000 - val_fn: 587.0000 - val_accuracy: 0.9000 - val_precision: 0.7188 - val_recall: 0.0727 - val_auc: 0.7773 - val_prc: 0.3511\n",
      "Epoch 6/100\n",
      "111/111 [==============================] - 0s 2ms/step - loss: 0.2890 - tp: 245.0000 - fp: 167.0000 - tn: 25175.0000 - fn: 2749.0000 - accuracy: 0.8971 - precision: 0.5947 - recall: 0.0818 - auc: 0.7729 - prc: 0.3265 - val_loss: 0.2828 - val_tp: 46.0000 - val_fp: 18.0000 - val_tn: 5402.0000 - val_fn: 587.0000 - val_accuracy: 0.9000 - val_precision: 0.7188 - val_recall: 0.0727 - val_auc: 0.7762 - val_prc: 0.3483\n",
      "Epoch 7/100\n",
      "111/111 [==============================] - 0s 2ms/step - loss: 0.2894 - tp: 268.0000 - fp: 169.0000 - tn: 25173.0000 - fn: 2726.0000 - accuracy: 0.8978 - precision: 0.6133 - recall: 0.0895 - auc: 0.7717 - prc: 0.3263 - val_loss: 0.2822 - val_tp: 63.0000 - val_fp: 30.0000 - val_tn: 5390.0000 - val_fn: 570.0000 - val_accuracy: 0.9009 - val_precision: 0.6774 - val_recall: 0.0995 - val_auc: 0.7767 - val_prc: 0.3502\n",
      "Epoch 8/100\n",
      "111/111 [==============================] - 0s 2ms/step - loss: 0.2882 - tp: 282.0000 - fp: 184.0000 - tn: 25158.0000 - fn: 2712.0000 - accuracy: 0.8978 - precision: 0.6052 - recall: 0.0942 - auc: 0.7737 - prc: 0.3306 - val_loss: 0.2824 - val_tp: 64.0000 - val_fp: 30.0000 - val_tn: 5390.0000 - val_fn: 569.0000 - val_accuracy: 0.9010 - val_precision: 0.6809 - val_recall: 0.1011 - val_auc: 0.7761 - val_prc: 0.3488\n",
      "Epoch 9/100\n",
      "111/111 [==============================] - 0s 2ms/step - loss: 0.2899 - tp: 249.0000 - fp: 187.0000 - tn: 25155.0000 - fn: 2745.0000 - accuracy: 0.8965 - precision: 0.5711 - recall: 0.0832 - auc: 0.7726 - prc: 0.3209 - val_loss: 0.2828 - val_tp: 42.0000 - val_fp: 16.0000 - val_tn: 5404.0000 - val_fn: 591.0000 - val_accuracy: 0.8997 - val_precision: 0.7241 - val_recall: 0.0664 - val_auc: 0.7769 - val_prc: 0.3494\n",
      "Epoch 10/100\n",
      "111/111 [==============================] - 0s 2ms/step - loss: 0.2885 - tp: 236.0000 - fp: 176.0000 - tn: 25166.0000 - fn: 2758.0000 - accuracy: 0.8965 - precision: 0.5728 - recall: 0.0788 - auc: 0.7767 - prc: 0.3244 - val_loss: 0.2824 - val_tp: 56.0000 - val_fp: 23.0000 - val_tn: 5397.0000 - val_fn: 577.0000 - val_accuracy: 0.9009 - val_precision: 0.7089 - val_recall: 0.0885 - val_auc: 0.7765 - val_prc: 0.3493\n",
      "Epoch 11/100\n",
      "111/111 [==============================] - 0s 2ms/step - loss: 0.2881 - tp: 262.0000 - fp: 190.0000 - tn: 25152.0000 - fn: 2732.0000 - accuracy: 0.8969 - precision: 0.5796 - recall: 0.0875 - auc: 0.7738 - prc: 0.3289 - val_loss: 0.2824 - val_tp: 51.0000 - val_fp: 20.0000 - val_tn: 5400.0000 - val_fn: 582.0000 - val_accuracy: 0.9005 - val_precision: 0.7183 - val_recall: 0.0806 - val_auc: 0.7773 - val_prc: 0.3495\n",
      "Epoch 12/100\n",
      " 84/111 [=====================>........] - ETA: 0s - loss: 0.2892 - tp: 194.0000 - fp: 146.0000 - tn: 19084.0000 - fn: 2080.0000 - accuracy: 0.8965 - precision: 0.5706 - recall: 0.0853 - auc: 0.7727 - prc: 0.3250Restoring model weights from the end of the best epoch: 2.\n",
      "111/111 [==============================] - 0s 2ms/step - loss: 0.2876 - tp: 267.0000 - fp: 186.0000 - tn: 25156.0000 - fn: 2727.0000 - accuracy: 0.8972 - precision: 0.5894 - recall: 0.0892 - auc: 0.7755 - prc: 0.3321 - val_loss: 0.2822 - val_tp: 60.0000 - val_fp: 28.0000 - val_tn: 5392.0000 - val_fn: 573.0000 - val_accuracy: 0.9007 - val_precision: 0.6818 - val_recall: 0.0948 - val_auc: 0.7776 - val_prc: 0.3503\n",
      "Epoch 00012: early stopping\n"
     ]
    }
   ],
   "source": [
    "model = make_model()\n",
    "model.load_weights(initial_weights)\n",
    "baseline_history = model.fit(\n",
    "    train_feats,\n",
    "    y_train,\n",
    "    batch_size=256,\n",
    "    epochs=100,\n",
    "    callbacks=[early_stopping],\n",
    "    validation_data=(val_feats, y_val))"
   ]
  },
  {
   "cell_type": "code",
   "execution_count": 206,
   "metadata": {},
   "outputs": [
    {
     "data": {
      "image/png": "[encoded data removed]",
      "text/plain": [
       "<Figure size 432x288 with 4 Axes>"
      ]
     },
     "metadata": {
      "needs_background": "light"
     },
     "output_type": "display_data"
    }
   ],
   "source": [
    "colors = plt.rcParams['axes.prop_cycle'].by_key()['color']\n",
    "\n",
    "def plot_metrics(history):\n",
    "    metrics = ['loss', 'prc', 'precision', 'recall']\n",
    "    for n, metric in enumerate(metrics):\n",
    "        name = metric.replace(\"_\",\" \").capitalize()\n",
    "        plt.subplot(2,2,n+1)\n",
    "        plt.plot(history.epoch, history.history[metric], color=colors[0], label='Train')\n",
    "        plt.plot(history.epoch, history.history['val_'+metric],\n",
    "             color=colors[1], label='Val')\n",
    "        plt.xlabel('Epoch')\n",
    "        plt.ylabel(name)\n",
    "        if metric == 'loss':\n",
    "            plt.ylim([0, plt.ylim()[1]])\n",
    "        elif metric == 'auc':\n",
    "            plt.ylim([0.8,1])\n",
    "        else:\n",
    "            plt.ylim([0,1])\n",
    "\n",
    "        plt.legend()\n",
    "        \n",
    "plot_metrics(baseline_history)"
   ]
  },
  {
   "cell_type": "code",
   "execution_count": 216,
   "metadata": {},
   "outputs": [
    {
     "name": "stdout",
     "output_type": "stream",
     "text": [
      "0.4643919054297736\n"
     ]
    }
   ],
   "source": [
    "train_predictions_baseline = model.predict(train_feats)\n",
    "test_predictions_baseline = model.predict(test_feats)\n",
    "\n",
    "\n",
    "test_preds = []\n",
    "test_probs = []\n",
    "for i in test_predictions_baseline:\n",
    "    if i > 0.5:\n",
    "        test_preds.append(1)\n",
    "        test_probs.append(i)\n",
    "    \n",
    "    else:\n",
    "        test_preds.append(0)\n",
    "        test_probs.append(i)\n",
    "\n",
    "\n",
    "TP = sum([(p and l) for (p,l) in zip(test_preds, y_test)])\n",
    "FP = sum([(p and not l) for (p,l) in zip(test_preds, y_test)])\n",
    "TN = sum([(not p and not l) for (p,l) in zip(test_preds, y_test)])\n",
    "FN = sum([(not p and l) for (p,l) in zip(test_preds, y_test)])\n",
    "    \n",
    "TPR = TP/(TP+FN)\n",
    "TNR = TN/(TN+FP)\n",
    "    \n",
    "BER = 1 - .5 * (TPR + TNR)\n",
    "    \n",
    "precision = TP/(TP+FP)\n",
    "recall = TP/(TP + FN)\n",
    "    \n",
    "F1 = 2 * (precision*recall)/(precision + recall)\n",
    "\n",
    "accuracy = (TP + TN)/(TP + FP + TN + FN)\n",
    "\n",
    "print(BER)\n"
   ]
  },
  {
   "cell_type": "code",
   "execution_count": 208,
   "metadata": {},
   "outputs": [
    {
     "data": {
      "text/plain": [
       "'Model learns to just pick zero since classes are so imbalanced'"
      ]
     },
     "execution_count": 208,
     "metadata": {},
     "output_type": "execute_result"
    }
   ],
   "source": [
    "\"\"\"Model learns to just pick zero since classes are so imbalanced\"\"\"\n"
   ]
  },
  {
   "cell_type": "code",
   "execution_count": 228,
   "metadata": {},
   "outputs": [
    {
     "data": {
      "image/png": "[encoded data removed]",
      "text/plain": [
       "<Figure size 432x288 with 1 Axes>"
      ]
     },
     "metadata": {
      "needs_background": "light"
     },
     "output_type": "display_data"
    },
    {
     "name": "stdout",
     "output_type": "stream",
     "text": [
      "0.7843193462518248\n"
     ]
    }
   ],
   "source": [
    "from sklearn.metrics import roc_curve, roc_auc_score\n",
    "\n",
    "r_probs = [0 for _ in range(len(y_test))]\n",
    "\n",
    "r_auc = roc_auc_score(y_test,r_probs)\n",
    "nn_auc = roc_auc_score(y_test,test_probs)\n",
    "\n",
    "r_fpr,r_tpr,_ = roc_curve(y_test,r_probs)\n",
    "nn_fpr,nn_tpr,_ = roc_curve(y_test,test_probs)\n",
    "\n",
    "\n",
    "\n",
    "plt.plot(r_fpr,r_tpr, label = 'Guess 0 Always',color='black')\n",
    "plt.plot(nn_fpr,nn_tpr, label = 'Baseline NN',color ='b')\n",
    "\n",
    "plt.title('ROC Plot Baseline Neural Network')\n",
    "plt.xlabel('FPR %')\n",
    "plt.ylabel('TPR %')\n",
    "plt.legend()\n",
    "plt.show()\n",
    "\n",
    "print(nn_auc)"
   ]
  },
  {
   "cell_type": "code",
   "execution_count": 210,
   "metadata": {},
   "outputs": [
    {
     "data": {
      "text/plain": [
       "'Fix Class Imbalance'"
      ]
     },
     "execution_count": 210,
     "metadata": {},
     "output_type": "execute_result"
    }
   ],
   "source": [
    "\"\"\"Fix Class Imbalance\"\"\""
   ]
  },
  {
   "cell_type": "code",
   "execution_count": 211,
   "metadata": {},
   "outputs": [
    {
     "name": "stdout",
     "output_type": "stream",
     "text": [
      "0.6180258103738911\n",
      "5.236361507843596\n"
     ]
    }
   ],
   "source": [
    "weight_0 = (1/negative) * (positive+negative/2.0)\n",
    "weight_1 = (1/positive) * (positive+negative/2.0)\n",
    "\n",
    "class_weight = {0: weight_0, 1: weight_1}\n",
    "\n",
    "print(weight_0)\n",
    "print(weight_1)"
   ]
  },
  {
   "cell_type": "code",
   "execution_count": 212,
   "metadata": {},
   "outputs": [
    {
     "name": "stdout",
     "output_type": "stream",
     "text": [
      "Epoch 1/100\n",
      "111/111 [==============================] - 2s 8ms/step - loss: 0.9360 - tp: 657.0000 - fp: 2942.0000 - tn: 27820.0000 - fn: 2970.0000 - accuracy: 0.8281 - precision: 0.1826 - recall: 0.1811 - auc: 0.6025 - prc: 0.1501 - val_loss: 0.5263 - val_tp: 347.0000 - val_fp: 1231.0000 - val_tn: 4189.0000 - val_fn: 286.0000 - val_accuracy: 0.7494 - val_precision: 0.2199 - val_recall: 0.5482 - val_auc: 0.7456 - val_prc: 0.3125\n",
      "Epoch 2/100\n",
      "111/111 [==============================] - 0s 2ms/step - loss: 0.7016 - tp: 1657.0000 - fp: 6438.0000 - tn: 18904.0000 - fn: 1337.0000 - accuracy: 0.7256 - precision: 0.2047 - recall: 0.5534 - auc: 0.7191 - prc: 0.2583 - val_loss: 0.5305 - val_tp: 401.0000 - val_fp: 1265.0000 - val_tn: 4155.0000 - val_fn: 232.0000 - val_accuracy: 0.7527 - val_precision: 0.2407 - val_recall: 0.6335 - val_auc: 0.7728 - val_prc: 0.3481\n",
      "Epoch 3/100\n",
      "111/111 [==============================] - 0s 2ms/step - loss: 0.6899 - tp: 1706.0000 - fp: 6161.0000 - tn: 19181.0000 - fn: 1288.0000 - accuracy: 0.7371 - precision: 0.2169 - recall: 0.5698 - auc: 0.7343 - prc: 0.2757 - val_loss: 0.5306 - val_tp: 396.0000 - val_fp: 1252.0000 - val_tn: 4168.0000 - val_fn: 237.0000 - val_accuracy: 0.7540 - val_precision: 0.2403 - val_recall: 0.6256 - val_auc: 0.7743 - val_prc: 0.3512\n",
      "Epoch 4/100\n",
      "111/111 [==============================] - 0s 2ms/step - loss: 0.6740 - tp: 1756.0000 - fp: 6000.0000 - tn: 19342.0000 - fn: 1238.0000 - accuracy: 0.7446 - precision: 0.2264 - recall: 0.5865 - auc: 0.7469 - prc: 0.2931 - val_loss: 0.5384 - val_tp: 403.0000 - val_fp: 1296.0000 - val_tn: 4124.0000 - val_fn: 230.0000 - val_accuracy: 0.7479 - val_precision: 0.2372 - val_recall: 0.6367 - val_auc: 0.7747 - val_prc: 0.3472\n",
      "Epoch 5/100\n",
      "111/111 [==============================] - 0s 2ms/step - loss: 0.6729 - tp: 1730.0000 - fp: 5902.0000 - tn: 19440.0000 - fn: 1264.0000 - accuracy: 0.7471 - precision: 0.2267 - recall: 0.5778 - auc: 0.7474 - prc: 0.2976 - val_loss: 0.5412 - val_tp: 402.0000 - val_fp: 1324.0000 - val_tn: 4096.0000 - val_fn: 231.0000 - val_accuracy: 0.7431 - val_precision: 0.2329 - val_recall: 0.6351 - val_auc: 0.7753 - val_prc: 0.3499\n",
      "Epoch 6/100\n",
      "111/111 [==============================] - 0s 2ms/step - loss: 0.6745 - tp: 1739.0000 - fp: 6053.0000 - tn: 19289.0000 - fn: 1255.0000 - accuracy: 0.7421 - precision: 0.2232 - recall: 0.5808 - auc: 0.7450 - prc: 0.2941 - val_loss: 0.5090 - val_tp: 380.0000 - val_fp: 1143.0000 - val_tn: 4277.0000 - val_fn: 253.0000 - val_accuracy: 0.7694 - val_precision: 0.2495 - val_recall: 0.6003 - val_auc: 0.7751 - val_prc: 0.3493\n",
      "Epoch 7/100\n",
      "111/111 [==============================] - 0s 2ms/step - loss: 0.6603 - tp: 1755.0000 - fp: 5720.0000 - tn: 19622.0000 - fn: 1239.0000 - accuracy: 0.7544 - precision: 0.2348 - recall: 0.5862 - auc: 0.7583 - prc: 0.3023 - val_loss: 0.5645 - val_tp: 421.0000 - val_fp: 1440.0000 - val_tn: 3980.0000 - val_fn: 212.0000 - val_accuracy: 0.7271 - val_precision: 0.2262 - val_recall: 0.6651 - val_auc: 0.7753 - val_prc: 0.3483\n",
      "Epoch 8/100\n",
      "111/111 [==============================] - 0s 2ms/step - loss: 0.6634 - tp: 1801.0000 - fp: 6159.0000 - tn: 19183.0000 - fn: 1193.0000 - accuracy: 0.7405 - precision: 0.2263 - recall: 0.6015 - auc: 0.7539 - prc: 0.2999 - val_loss: 0.5193 - val_tp: 395.0000 - val_fp: 1218.0000 - val_tn: 4202.0000 - val_fn: 238.0000 - val_accuracy: 0.7595 - val_precision: 0.2449 - val_recall: 0.6240 - val_auc: 0.7748 - val_prc: 0.3477\n",
      "Epoch 9/100\n",
      "111/111 [==============================] - 0s 2ms/step - loss: 0.6567 - tp: 1801.0000 - fp: 6062.0000 - tn: 19280.0000 - fn: 1193.0000 - accuracy: 0.7440 - precision: 0.2290 - recall: 0.6015 - auc: 0.7577 - prc: 0.3139 - val_loss: 0.5220 - val_tp: 394.0000 - val_fp: 1220.0000 - val_tn: 4200.0000 - val_fn: 239.0000 - val_accuracy: 0.7590 - val_precision: 0.2441 - val_recall: 0.6224 - val_auc: 0.7756 - val_prc: 0.3505\n",
      "Epoch 10/100\n",
      "111/111 [==============================] - 0s 2ms/step - loss: 0.6606 - tp: 1811.0000 - fp: 6041.0000 - tn: 19301.0000 - fn: 1183.0000 - accuracy: 0.7451 - precision: 0.2306 - recall: 0.6049 - auc: 0.7563 - prc: 0.3026 - val_loss: 0.5120 - val_tp: 385.0000 - val_fp: 1179.0000 - val_tn: 4241.0000 - val_fn: 248.0000 - val_accuracy: 0.7642 - val_precision: 0.2462 - val_recall: 0.6082 - val_auc: 0.7750 - val_prc: 0.3480\n",
      "Epoch 11/100\n",
      "111/111 [==============================] - 0s 2ms/step - loss: 0.6555 - tp: 1801.0000 - fp: 5981.0000 - tn: 19361.0000 - fn: 1193.0000 - accuracy: 0.7468 - precision: 0.2314 - recall: 0.6015 - auc: 0.7595 - prc: 0.3067 - val_loss: 0.5521 - val_tp: 421.0000 - val_fp: 1392.0000 - val_tn: 4028.0000 - val_fn: 212.0000 - val_accuracy: 0.7350 - val_precision: 0.2322 - val_recall: 0.6651 - val_auc: 0.7757 - val_prc: 0.3516\n",
      "Epoch 12/100\n",
      "111/111 [==============================] - 0s 2ms/step - loss: 0.6571 - tp: 1821.0000 - fp: 6165.0000 - tn: 19177.0000 - fn: 1173.0000 - accuracy: 0.7410 - precision: 0.2280 - recall: 0.6082 - auc: 0.7573 - prc: 0.3054 - val_loss: 0.5149 - val_tp: 390.0000 - val_fp: 1177.0000 - val_tn: 4243.0000 - val_fn: 243.0000 - val_accuracy: 0.7654 - val_precision: 0.2489 - val_recall: 0.6161 - val_auc: 0.7760 - val_prc: 0.3499\n",
      "Epoch 13/100\n",
      "111/111 [==============================] - 0s 2ms/step - loss: 0.6523 - tp: 1808.0000 - fp: 6023.0000 - tn: 19319.0000 - fn: 1186.0000 - accuracy: 0.7456 - precision: 0.2309 - recall: 0.6039 - auc: 0.7607 - prc: 0.3092 - val_loss: 0.5309 - val_tp: 405.0000 - val_fp: 1298.0000 - val_tn: 4122.0000 - val_fn: 228.0000 - val_accuracy: 0.7479 - val_precision: 0.2378 - val_recall: 0.6398 - val_auc: 0.7758 - val_prc: 0.3468\n",
      "Epoch 14/100\n",
      "111/111 [==============================] - 0s 2ms/step - loss: 0.6557 - tp: 1798.0000 - fp: 5999.0000 - tn: 19343.0000 - fn: 1196.0000 - accuracy: 0.7461 - precision: 0.2306 - recall: 0.6005 - auc: 0.7587 - prc: 0.3066 - val_loss: 0.5456 - val_tp: 420.0000 - val_fp: 1372.0000 - val_tn: 4048.0000 - val_fn: 213.0000 - val_accuracy: 0.7381 - val_precision: 0.2344 - val_recall: 0.6635 - val_auc: 0.7757 - val_prc: 0.3476\n",
      "Epoch 15/100\n",
      "111/111 [==============================] - 0s 2ms/step - loss: 0.6529 - tp: 1826.0000 - fp: 6059.0000 - tn: 19283.0000 - fn: 1168.0000 - accuracy: 0.7450 - precision: 0.2316 - recall: 0.6099 - auc: 0.7611 - prc: 0.3047 - val_loss: 0.5448 - val_tp: 421.0000 - val_fp: 1388.0000 - val_tn: 4032.0000 - val_fn: 212.0000 - val_accuracy: 0.7357 - val_precision: 0.2327 - val_recall: 0.6651 - val_auc: 0.7765 - val_prc: 0.3485\n",
      "Epoch 16/100\n",
      "111/111 [==============================] - 0s 2ms/step - loss: 0.6534 - tp: 1836.0000 - fp: 6089.0000 - tn: 19253.0000 - fn: 1158.0000 - accuracy: 0.7442 - precision: 0.2317 - recall: 0.6132 - auc: 0.7603 - prc: 0.3022 - val_loss: 0.5563 - val_tp: 432.0000 - val_fp: 1454.0000 - val_tn: 3966.0000 - val_fn: 201.0000 - val_accuracy: 0.7266 - val_precision: 0.2291 - val_recall: 0.6825 - val_auc: 0.7758 - val_prc: 0.3482\n",
      "Epoch 17/100\n",
      "111/111 [==============================] - 0s 2ms/step - loss: 0.6505 - tp: 1854.0000 - fp: 6132.0000 - tn: 19210.0000 - fn: 1140.0000 - accuracy: 0.7434 - precision: 0.2322 - recall: 0.6192 - auc: 0.7625 - prc: 0.3061 - val_loss: 0.5353 - val_tp: 414.0000 - val_fp: 1329.0000 - val_tn: 4091.0000 - val_fn: 219.0000 - val_accuracy: 0.7443 - val_precision: 0.2375 - val_recall: 0.6540 - val_auc: 0.7757 - val_prc: 0.3491\n",
      "Epoch 18/100\n",
      "111/111 [==============================] - 0s 2ms/step - loss: 0.6514 - tp: 1845.0000 - fp: 6172.0000 - tn: 19170.0000 - fn: 1149.0000 - accuracy: 0.7416 - precision: 0.2301 - recall: 0.6162 - auc: 0.7610 - prc: 0.3037 - val_loss: 0.5536 - val_tp: 429.0000 - val_fp: 1474.0000 - val_tn: 3946.0000 - val_fn: 204.0000 - val_accuracy: 0.7228 - val_precision: 0.2254 - val_recall: 0.6777 - val_auc: 0.7760 - val_prc: 0.3485\n",
      "Epoch 19/100\n",
      "111/111 [==============================] - 0s 2ms/step - loss: 0.6459 - tp: 1887.0000 - fp: 6308.0000 - tn: 19034.0000 - fn: 1107.0000 - accuracy: 0.7383 - precision: 0.2303 - recall: 0.6303 - auc: 0.7642 - prc: 0.3183 - val_loss: 0.5337 - val_tp: 410.0000 - val_fp: 1326.0000 - val_tn: 4094.0000 - val_fn: 223.0000 - val_accuracy: 0.7441 - val_precision: 0.2362 - val_recall: 0.6477 - val_auc: 0.7755 - val_prc: 0.3476\n",
      "Epoch 20/100\n",
      "111/111 [==============================] - 0s 2ms/step - loss: 0.6452 - tp: 1897.0000 - fp: 6272.0000 - tn: 19070.0000 - fn: 1097.0000 - accuracy: 0.7399 - precision: 0.2322 - recall: 0.6336 - auc: 0.7656 - prc: 0.3147 - val_loss: 0.5259 - val_tp: 410.0000 - val_fp: 1292.0000 - val_tn: 4128.0000 - val_fn: 223.0000 - val_accuracy: 0.7497 - val_precision: 0.2409 - val_recall: 0.6477 - val_auc: 0.7759 - val_prc: 0.3481\n",
      "Epoch 21/100\n",
      " 78/111 [====================>.........] - ETA: 0s - loss: 0.6436 - tp: 1299.0000 - fp: 4293.0000 - tn: 13576.0000 - fn: 800.0000 - accuracy: 0.7449 - precision: 0.2323 - recall: 0.6189 - auc: 0.7646 - prc: 0.3140Restoring model weights from the end of the best epoch: 11.\n",
      "111/111 [==============================] - 0s 2ms/step - loss: 0.6446 - tp: 1886.0000 - fp: 6238.0000 - tn: 19104.0000 - fn: 1108.0000 - accuracy: 0.7408 - precision: 0.2322 - recall: 0.6299 - auc: 0.7648 - prc: 0.3165 - val_loss: 0.5424 - val_tp: 422.0000 - val_fp: 1405.0000 - val_tn: 4015.0000 - val_fn: 211.0000 - val_accuracy: 0.7330 - val_precision: 0.2310 - val_recall: 0.6667 - val_auc: 0.7761 - val_prc: 0.3492\n",
      "Epoch 00021: early stopping\n"
     ]
    }
   ],
   "source": [
    "weighted_model = make_model()\n",
    "weighted_model.load_weights(initial_weights)\n",
    "\n",
    "weighted_history = weighted_model.fit(\n",
    "    train_feats,\n",
    "    y_train,\n",
    "    batch_size=256,\n",
    "    epochs=100,\n",
    "    callbacks=[early_stopping],\n",
    "    validation_data=(val_feats, y_val),\n",
    "    class_weight=class_weight)"
   ]
  },
  {
   "cell_type": "code",
   "execution_count": 223,
   "metadata": {},
   "outputs": [
    {
     "name": "stdout",
     "output_type": "stream",
     "text": [
      "Balanced Error rate: 0.2871658986175115\n",
      "Precision: 0.24156992813709233\n",
      "Recall: 0.6785714285714286\n",
      "F1 score: 0.3562984101100693\n",
      "Total Classification Accuracy: 0.7398253419014664\n"
     ]
    }
   ],
   "source": [
    "train_preds_weighted = weighted_model.predict(train_feats)\n",
    "test_preds_weighted = weighted_model.predict(test_feats)\n",
    "\n",
    "\n",
    "test_predictions_weighted = []\n",
    "test_probs_weighted = []\n",
    "\n",
    "for i in test_preds_weighted:\n",
    "    if i > 0.5:\n",
    "        test_predictions_weighted.append(1)\n",
    "        test_probs_weighted.append(i)\n",
    "    \n",
    "    else:\n",
    "        test_predictions_weighted.append(0)\n",
    "        test_probs_weighted.append(i)\n",
    "        \n",
    "\n",
    "\n",
    "TP = sum([(p and l) for (p,l) in zip(test_predictions_weighted, y_test)])\n",
    "FP = sum([(p and not l) for (p,l) in zip(test_predictions_weighted, y_test)])\n",
    "TN = sum([(not p and not l) for (p,l) in zip(test_predictions_weighted, y_test)])\n",
    "FN = sum([(not p and l) for (p,l) in zip(test_predictions_weighted, y_test)])\n",
    "    \n",
    "TPR = TP/(TP+FN)\n",
    "TNR = TN/(TN+FP)\n",
    "    \n",
    "BER = 1 - .5 * (TPR + TNR)\n",
    "    \n",
    "precision = TP/(TP+FP)\n",
    "recall = TP/(TP + FN)\n",
    "    \n",
    "F1 = 2 * (precision*recall)/(precision + recall)\n",
    "\n",
    "accuracy = (TP + TN)/(TP + FP + TN + FN)\n",
    "\n",
    "print(\"Balanced Error rate: \" + str(BER))\n",
    "print(\"Precision: \" + str(precision))\n",
    "print('Recall: ' + str(recall))\n",
    "print('F1 score: ' + str(F1))\n",
    "print('Total Classification Accuracy: ' + str(accuracy))"
   ]
  },
  {
   "cell_type": "code",
   "execution_count": 227,
   "metadata": {},
   "outputs": [
    {
     "data": {
      "image/png": "[encoded data removed]",
      "text/plain": [
       "<Figure size 432x288 with 1 Axes>"
      ]
     },
     "metadata": {
      "needs_background": "light"
     },
     "output_type": "display_data"
    },
    {
     "name": "stdout",
     "output_type": "stream",
     "text": [
      "0.7851398231101696\n"
     ]
    }
   ],
   "source": [
    "r_probs = [0 for _ in range(len(y_test))]\n",
    "\n",
    "r_auc = roc_auc_score(y_test,r_probs)\n",
    "nn_auc = roc_auc_score(y_test,test_probs_weighted)\n",
    "\n",
    "r_fpr,r_tpr,_ = roc_curve(y_test,r_probs)\n",
    "nn_fpr,nn_tpr,_ = roc_curve(y_test,test_probs_weighted)\n",
    "\n",
    "\n",
    "\n",
    "plt.plot(r_fpr,r_tpr, label = 'Guess 0 Always',color='black')\n",
    "plt.plot(nn_fpr,nn_tpr, label = 'Baseline NN',color='b')\n",
    "\n",
    "plt.title('ROC Plot Weighte Classes Neural Network')\n",
    "plt.xlabel('FPR %')\n",
    "plt.ylabel('TPR %')\n",
    "plt.legend()\n",
    "plt.show()\n",
    "\n",
    "print(nn_auc)"
   ]
  }
 ],
 "metadata": {
  "kernelspec": {
   "display_name": "Python 3",
   "language": "python",
   "name": "python3"
  },
  "language_info": {
   "codemirror_mode": {
    "name": "ipython",
    "version": 3
   },
   "file_extension": ".py",
   "mimetype": "text/x-python",
   "name": "python",
   "nbconvert_exporter": "python",
   "pygments_lexer": "ipython3",
   "version": "3.7.3"
  }
 },
 "nbformat": 4,
 "nbformat_minor": 2
}
