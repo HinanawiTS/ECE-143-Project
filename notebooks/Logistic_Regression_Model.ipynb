{
 "cells": [
  {
   "cell_type": "code",
   "execution_count": 1,
   "metadata": {},
   "outputs": [
    {
     "name": "stdout",
     "output_type": "stream",
     "text": [
      "40461\n"
     ]
    }
   ],
   "source": [
    "import numpy as np \n",
    "import pandas as pd\n",
    "import json\n",
    "from mplsoccer.pitch import Pitch, VerticalPitch\n",
    "\n",
    "\n",
    "path = \"C:/Users/brand/desktop/events/events_England.json\" \n",
    "\n",
    "with open(path) as f:\n",
    "    data = json.load(f)\n",
    "\n",
    "train = pd.DataFrame(data)\n",
    "\n",
    "\n",
    "path2 = \"C:/Users/brand/desktop/players.json\" \n",
    "\n",
    "\n",
    "with open(path2) as f:\n",
    "    play = json.load(f)\n",
    "\n",
    "players = pd.DataFrame(play)\n",
    "\n",
    "lst = ['events_France.json','events_Germany.json','events_Italy.json','events_Spain.json']\n",
    "pathway = \"C:/Users/brand/desktop/events/\"\n",
    "\n",
    "for country in lst:\n",
    "    with open(pathway + country) as f:\n",
    "        datal = json.load(f)\n",
    "        tl = pd.DataFrame(datal)\n",
    "        train = pd.concat([train,tl],ignore_index=True)\n",
    "\n",
    "\n",
    "\n",
    "\n",
    "#pd.unique(train['subEventName'])\n",
    "shots = train[train['subEventName'] == 'Shot']\n",
    "\n",
    "print(len(shots))\n",
    "\n",
    "shots_model = pd.DataFrame(columns=[\"Goal\",\"X\",\"Y\"], dtype=object)\n",
    "\n",
    "for i,shot in shots.iterrows():\n",
    "    \n",
    "    \n",
    "    shots_model.at[i,'Header'] = 0\n",
    "    for tag in shot['tags']:\n",
    "        if tag['id'] == 403:\n",
    "            shots_model.at[i,'Header'] = 1\n",
    "    \n",
    "    \n",
    "    #take distance from center of goal at y = 50, x position of goal is always 100\n",
    "    shots_model.at[i,'X'] = 100-shot['positions'][0]['x']\n",
    "    shots_model.at[i,'Y'] = shot['positions'][0]['y']\n",
    "    shots_model.at[i,'C'] = abs(shot['positions'][0]['y'] - 50)\n",
    "        \n",
    "    #distance in meters\n",
    "        \n",
    "    x = shots_model.at[i,'X']* 105/100\n",
    "    y = shots_model.at[i,'C']* 65/100\n",
    "    shots_model.at[i,'Distance'] = np.sqrt(x**2 + y**2)\n",
    "        \n",
    "    angle = np.arctan(7.32 * x / (x**2 + y**2 - (7.32/2)**2))\n",
    "        \n",
    "    if angle < 0:\n",
    "        angle = np.pi + angle\n",
    "        \n",
    "    shots_model.at[i,'Angle'] = angle\n",
    "        \n",
    "    #goal check\n",
    "    shots_model.at[i,'Goal'] = 0\n",
    "    shots_model.at[i,'Counter Attack'] = 0\n",
    "    shots_model.at[i, 'Blocked'] = 0\n",
    "    shots_model.at[i, 'Right Foot'] = 0\n",
    "    shots_model.at[i,'wyId'] = shot['playerId']\n",
    "    \n",
    "    if shot['matchPeriod'] == '1H':\n",
    "        shots_model.at[i, 'First Half'] = 1\n",
    "    \n",
    "    else:\n",
    "        shots_model.at[i,'First Half'] = 0\n",
    "        \n",
    "    for tags in shot['tags']:\n",
    "        if tags['id'] == 101:\n",
    "            shots_model.at[i,'Goal'] = 1\n",
    "            \n",
    "        if tags['id'] == 1901:\n",
    "            shots_model.at[i, 'Counter Attack'] = 1\n",
    "        \n",
    "        if tags['id'] == 2101:\n",
    "            shots_model.at[i, 'Blocked'] = 1\n",
    "        \n",
    "        if tags['id'] == 402:\n",
    "            shots_model.at[i, 'Right Foot'] = 1\n",
    "            \n",
    "            \n",
    "        \n",
    "shots_model['angle_degrees'] = shots_model['Angle'] * 180 / np.pi\n",
    "\n",
    "shots_model = shots_model.merge(players, left_on = 'wyId' , right_on = 'wyId')\n",
    "\n",
    "for i,shot in shots_model.iterrows():\n",
    "    shots_model.at[i, 'strong foot'] = 0\n",
    "    \n",
    "    if shot['Right Foot'] == 1:\n",
    "        if shot['foot'] == 'right':\n",
    "            shots_model.at[i, 'strong foot'] = 1\n",
    "    \n",
    "    elif shot['Right Foot'] == 0:\n",
    "        if shot['foot'] == 'left':\n",
    "            shots_model.at[i, 'strong foot'] = 1\n",
    "\n",
    "\n",
    "pitch = Pitch(pitch_color ='black', line_color = 'white', stripe=False,pitch_type='wyscout')\n",
    "\n",
    "fig,ax = pitch.draw(figsize=(10,8))\n",
    "\n",
    "df = shots_model.loc[shots_model['Goal'] == 1]\n",
    "xpos = df[\"X\"]\n",
    "ypos = df[\"Y\"]\n",
    "\n",
    "df_nongoals = shots_model.loc[shots_model['Goal'] == 0]\n",
    "xpos2 = df_nongoals[\"X\"]\n",
    "ypos2 = df_nongoals[\"Y\"]\n",
    "\n",
    "\n",
    "\n",
    "head = shots_model[shots_model['Header'] == 1]\n",
    "counter = shots_model[shots_model['Counter Attack'] == 1]\n",
    "strong = shots_model[shots_model['strong foot'] == 1]\n",
    "first = shots_model[shots_model['First Half'] == 1]\n",
    "head_df = head.loc[head['Goal'] == 1]\n",
    "strong_goal = strong.loc[strong['Goal'] == 1]\n",
    "\n",
    "headed_goals = len(head_df)"
   ]
  },
  {
   "cell_type": "code",
   "execution_count": 58,
   "metadata": {},
   "outputs": [
    {
     "name": "stdout",
     "output_type": "stream",
     "text": [
      "   Header   Distance     Angle  Counter Attack  strong foot  First Half\n",
      "0     0.0  13.891814  0.474451             0.0          1.0         1.0\n",
      "1     0.0  13.711765  0.519737             0.0          1.0         1.0\n",
      "2     0.0  14.778701  0.358683             0.0          0.0         0.0\n",
      "3     0.0  15.243113  0.337590             0.0          1.0         0.0\n",
      "4     0.0  19.602296  0.357062             0.0          1.0         1.0\n",
      "28336\n",
      "6053\n",
      "6069\n",
      "       Header   Distance     Angle  Counter Attack  strong foot  First Half\n",
      "29930     0.0  14.311010  0.415932             0.0          1.0         0.0\n",
      "18307     0.0  12.666886  0.560177             0.0          0.0         1.0\n",
      "17403     0.0  18.891929  0.241328             0.0          1.0         1.0\n",
      "21423     0.0  32.711848  0.221779             0.0          1.0         1.0\n",
      "18506     0.0  11.200893  0.601170             0.0          0.0         1.0\n",
      "       Goal\n",
      "29930     0\n",
      "18307     0\n",
      "17403     0\n",
      "21423     0\n",
      "18506     0\n"
     ]
    },
    {
     "name": "stderr",
     "output_type": "stream",
     "text": [
      "C:\\Users\\brand\\Anaconda3\\lib\\site-packages\\ipykernel_launcher.py:5: SettingWithCopyWarning: \n",
      "A value is trying to be set on a copy of a slice from a DataFrame.\n",
      "Try using .loc[row_indexer,col_indexer] = value instead\n",
      "\n",
      "See the caveats in the documentation: http://pandas.pydata.org/pandas-docs/stable/indexing.html#indexing-view-versus-copy\n",
      "  \"\"\"\n"
     ]
    }
   ],
   "source": [
    "from sklearn.model_selection import train_test_split\n",
    "\n",
    "X_full = shots_model[[\"Header\",\"Distance\", \"Angle\",\"Counter Attack\",\"strong foot\", \"First Half\"]]\n",
    "y_full = shots_model[[\"Goal\"]]\n",
    "y_full['Goal'] = y_full['Goal'].astype(int)\n",
    "print(X_full.head())\n",
    "\n",
    "X_train,X_test,y_train,y_test = train_test_split(X_full,y_full,test_size = 0.15,random_state=2)\n",
    "\n",
    "X_train,X_val,y_train,y_val = train_test_split(X_train,y_train,test_size = 0.176, random_state=2)\n",
    "\n",
    "\n",
    "print(len(X_train))\n",
    "print(len(X_val))\n",
    "print(len(X_test))\n",
    "print(X_train.head())\n",
    "print(y_train.head())\n"
   ]
  },
  {
   "cell_type": "code",
   "execution_count": 59,
   "metadata": {},
   "outputs": [
    {
     "name": "stdout",
     "output_type": "stream",
     "text": [
      "28336\n"
     ]
    }
   ],
   "source": [
    "y_val = np.array(y_val)\n",
    "yval = [i[0] for i in y_val]\n",
    "y_test = np.array(y_test)\n",
    "ytest = [i[0] for i in y_test]\n",
    "y_train = np.array(y_train)\n",
    "ytrain = [i[0] for i in y_train]\n",
    "print(len(y_train))"
   ]
  },
  {
   "cell_type": "code",
   "execution_count": null,
   "metadata": {},
   "outputs": [],
   "source": [
    "\"\"\"Logistic Regression + validation of regularization parameter\"\"\""
   ]
  },
  {
   "cell_type": "code",
   "execution_count": 43,
   "metadata": {},
   "outputs": [
    {
     "name": "stdout",
     "output_type": "stream",
     "text": [
      "[0.7216256401784239, 0.7216256401784239, 0.7203039814967784, 0.7173302494630761, 0.6981661985792169, 0.6514125227160086, 0.6322484718321494]\n"
     ]
    }
   ],
   "source": [
    "from sklearn.linear_model import LogisticRegression\n",
    "\n",
    "\n",
    "lambdas = [0.1**i for i in range(-1,5)]\n",
    "accs = []\n",
    "\n",
    "for i in lambdas:\n",
    "    model = LogisticRegression(C=i, class_weight='balanced').fit(X_train,y_train)\n",
    "    predictions = model.predict(X_val)\n",
    "    \n",
    "    correct = [(p==l) for (p,l) in zip(predictions,yval)]\n",
    "    \n",
    "    accuracy = sum(correct)/len(correct)\n",
    "    accs.append(accuracy)\n",
    "    \n",
    "    \n",
    "    \n",
    "    \n",
    "    \n",
    "print(accs)   "
   ]
  },
  {
   "cell_type": "code",
   "execution_count": 44,
   "metadata": {},
   "outputs": [
    {
     "data": {
      "text/plain": [
       "'Highest Accuracy with lambda = 1'"
      ]
     },
     "execution_count": 44,
     "metadata": {},
     "output_type": "execute_result"
    }
   ],
   "source": [
    "\"\"\"Highest Accuracy with lambda = 1\"\"\""
   ]
  },
  {
   "cell_type": "code",
   "execution_count": 113,
   "metadata": {},
   "outputs": [],
   "source": [
    "\"\"\"Check Balanced error rates, precision, ROC\"\"\"\n",
    "import matplotlib.pyplot as plt\n",
    "\n",
    "\n",
    "lambs = [1,.01,.001,.0001,.00001]\n",
    "f1 = []\n",
    "prec = []\n",
    "rec = []\n",
    "ber = []\n",
    "acc = []\n",
    "for i in lambs:\n",
    "    log = LogisticRegression(C=i, class_weight = 'balanced').fit(X_train,ytrain)\n",
    "    predictions = log.predict(X_val)\n",
    "    \n",
    "    TP = sum([(p and l) for (p,l) in zip(predictions, yval)])\n",
    "    FP = sum([(p and not l) for (p,l) in zip(predictions, yval)])\n",
    "    TN = sum([(not p and not l) for (p,l) in zip(predictions, yval)])\n",
    "    FN = sum([(not p and l) for (p,l) in zip(predictions, yval)])\n",
    "    \n",
    "    accuracy = (TP + TN)/(TP + FP + TN + FN)\n",
    "    \n",
    "    TPR = TP/(TP+FN)\n",
    "    TNR = TN/(TN+FP)\n",
    "    \n",
    "    BER = 1 - .5 * (TPR + TNR)\n",
    "    \n",
    "    precision = TP/(TP+FP)\n",
    "    recall = TP/(TP + FN)\n",
    "    \n",
    "    F1 = 2 * (precision*recall)/(precision + recall)\n",
    "    \n",
    "    f1.append(F1)\n",
    "    prec.append(precision)\n",
    "    rec.append(recall)\n",
    "    ber.append(BER)\n",
    "    acc.append(accuracy)\n",
    "\n",
    "    "
   ]
  },
  {
   "cell_type": "code",
   "execution_count": 114,
   "metadata": {},
   "outputs": [
    {
     "data": {
      "image/png": "[encoded data removed]",
      "text/plain": [
       "<Figure size 432x288 with 1 Axes>"
      ]
     },
     "metadata": {
      "needs_background": "light"
     },
     "output_type": "display_data"
    }
   ],
   "source": [
    "\n",
    "plt.xlabel('Regularization Parameter')\n",
    "plt.xscale('log')\n",
    "plt.ylabel('Score')\n",
    "plt.title('Classification Metrics vs Regularization Parameters: Logistic Regression')\n",
    "plt.plot(lambs,f1,label='F1')\n",
    "plt.plot(lambs,prec,label='Precision')\n",
    "plt.plot(lambs,rec,label='Recall')\n",
    "plt.plot(lambs,ber,label='Balanced Error Rate')\n",
    "plt.plot(lambs,acc,label = 'Total Accuracy')\n",
    "plt.legend(loc=2)\n",
    "plt.show()\n",
    "\n"
   ]
  },
  {
   "cell_type": "code",
   "execution_count": 110,
   "metadata": {},
   "outputs": [
    {
     "name": "stdout",
     "output_type": "stream",
     "text": [
      "[(0.9975703324835882, True, 1), (0.9974436108404614, True, 1), (0.9960452053386653, True, 1), (0.9960452053386653, True, 1), (0.9924154996396184, True, 1), (0.9924154996396184, True, 0), (0.9917108524626078, True, 1), (0.9915647858712382, True, 1), (0.990876841151656, True, 1), (0.9905701068710041, True, 1), (0.9905701068710041, True, 1), (0.9905701068710041, True, 0), (0.9896957913894601, True, 1), (0.9892493089058781, True, 1), (0.9882539845500062, True, 0), (0.9874170620420076, True, 1), (0.9874170620420076, True, 0), (0.9856610256805874, True, 1), (0.9843387489878637, True, 0), (0.9814947363846322, True, 0), (0.9803643507208587, True, 0), (0.978564260424279, True, 1), (0.9779792570095455, True, 1), (0.9776463415944884, True, 1), (0.9776463415944884, True, 1), (0.9775846694669684, True, 1), (0.975536111902838, True, 1), (0.9755006942894885, True, 0), (0.9720782352228718, True, 1), (0.9720782352228718, True, 0)]\n"
     ]
    }
   ],
   "source": [
    "\"\"\"ROC lambda = 1: Highest BER\"\"\"\n",
    "\n",
    "X_val = np.array(X_val)\n",
    "\n",
    "bestlog = LogisticRegression(C=1, class_weight = 'balanced').fit(X_train,ytrain)\n",
    "probs = bestlog.predict_proba(X_val)\n",
    "prediction = bestlog.predict(X_val)\n",
    "\n",
    "probY = list(zip([p[1] for p in probs], [p[1] > 0.5 for p in probs], yval))\n",
    "\n",
    "probY.sort(reverse=True)\n",
    "print(probY[0:30])\n",
    "\n"
   ]
  },
  {
   "cell_type": "code",
   "execution_count": 108,
   "metadata": {},
   "outputs": [],
   "source": [
    "\"\"\"Performance on Test Set\"\"\""
   ]
  },
  {
   "cell_type": "code",
   "execution_count": 112,
   "metadata": {},
   "outputs": [
    {
     "name": "stdout",
     "output_type": "stream",
     "text": [
      "Balanced Error rate: 0.28070927669805656\n",
      "Precision: 0.23774765380604795\n",
      "Recall: 0.7080745341614907\n",
      "F1 score: 0.3559718969555035\n",
      "Total Classification Accuracy: 0.7281265447355413\n"
     ]
    }
   ],
   "source": [
    "test_predictions = bestlog.predict(X_test)\n",
    "\n",
    "TP = sum([(p and l) for (p,l) in zip(test_predictions, ytest)])\n",
    "FP = sum([(p and not l) for (p,l) in zip(test_predictions, ytest)])\n",
    "TN = sum([(not p and not l) for (p,l) in zip(test_predictions, ytest)])\n",
    "FN = sum([(not p and l) for (p,l) in zip(test_predictions, ytest)])\n",
    "    \n",
    "TPR = TP/(TP+FN)\n",
    "TNR = TN/(TN+FP)\n",
    "    \n",
    "BER = 1 - .5 * (TPR + TNR)\n",
    "    \n",
    "precision = TP/(TP+FP)\n",
    "recall = TP/(TP + FN)\n",
    "    \n",
    "F1 = 2 * (precision*recall)/(precision + recall)\n",
    "\n",
    "accuracy = (TP + TN)/(TP + FP + TN + FN)\n",
    "    \n",
    "print(\"Balanced Error rate: \" + str(BER))\n",
    "print(\"Precision: \" + str(precision))\n",
    "print('Recall: ' + str(recall))\n",
    "print('F1 score: ' + str(F1))\n",
    "print('Total Classification Accuracy: ' + str(accuracy))"
   ]
  }
 ],
 "metadata": {
  "kernelspec": {
   "display_name": "Python 3",
   "language": "python",
   "name": "python3"
  },
  "language_info": {
   "codemirror_mode": {
    "name": "ipython",
    "version": 3
   },
   "file_extension": ".py",
   "mimetype": "text/x-python",
   "name": "python",
   "nbconvert_exporter": "python",
   "pygments_lexer": "ipython3",
   "version": "3.7.3"
  }
 },
 "nbformat": 4,
 "nbformat_minor": 2
}
