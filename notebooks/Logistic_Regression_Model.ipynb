{
 "cells": [
  {
   "cell_type": "code",
   "execution_count": 1,
   "metadata": {},
   "outputs": [
    {
     "name": "stderr",
     "output_type": "stream",
     "text": [
      "C:\\Users\\brand\\Anaconda3\\lib\\site-packages\\pandas\\compat\\_optional.py:138: UserWarning: Pandas requires version '2.7.0' or newer of 'numexpr' (version '2.6.9' currently installed).\n",
      "  warnings.warn(msg, UserWarning)\n"
     ]
    },
    {
     "name": "stdout",
     "output_type": "stream",
     "text": [
      "40461\n"
     ]
    }
   ],
   "source": [
    "import numpy as np \n",
    "import pandas as pd\n",
    "import json\n",
    "from mplsoccer.pitch import Pitch, VerticalPitch\n",
    "\n",
    "\n",
    "path = \"C:/Users/brand/desktop/events/events_England.json\" \n",
    "\n",
    "with open(path) as f:\n",
    "    data = json.load(f)\n",
    "\n",
    "train = pd.DataFrame(data)\n",
    "\n",
    "\n",
    "path2 = \"C:/Users/brand/desktop/players.json\" \n",
    "\n",
    "\n",
    "with open(path2) as f:\n",
    "    play = json.load(f)\n",
    "\n",
    "players = pd.DataFrame(play)\n",
    "\n",
    "lst = ['events_France.json','events_Germany.json','events_Italy.json','events_Spain.json']\n",
    "pathway = \"C:/Users/brand/desktop/events/\"\n",
    "\n",
    "for country in lst:\n",
    "    with open(pathway + country) as f:\n",
    "        datal = json.load(f)\n",
    "        tl = pd.DataFrame(datal)\n",
    "        train = pd.concat([train,tl],ignore_index=True)\n",
    "\n",
    "\n",
    "\n",
    "\n",
    "#pd.unique(train['subEventName'])\n",
    "shots = train[train['subEventName'] == 'Shot']\n",
    "\n",
    "print(len(shots))\n",
    "\n",
    "shots_model = pd.DataFrame(columns=[\"Goal\",\"X\",\"Y\"], dtype=object)\n",
    "\n",
    "for i,shot in shots.iterrows():\n",
    "    \n",
    "    \n",
    "    shots_model.at[i,'Header'] = 0\n",
    "    for tag in shot['tags']:\n",
    "        if tag['id'] == 403:\n",
    "            shots_model.at[i,'Header'] = 1\n",
    "    \n",
    "    \n",
    "    #take distance from center of goal at y = 50, x position of goal is always 100\n",
    "    shots_model.at[i,'X'] = 100-shot['positions'][0]['x']\n",
    "    shots_model.at[i,'Y'] = shot['positions'][0]['y']\n",
    "    shots_model.at[i,'C'] = abs(shot['positions'][0]['y'] - 50)\n",
    "        \n",
    "    #distance in meters\n",
    "        \n",
    "    x = shots_model.at[i,'X']* 105/100\n",
    "    y = shots_model.at[i,'C']* 65/100\n",
    "    shots_model.at[i,'Distance'] = np.sqrt(x**2 + y**2)\n",
    "        \n",
    "    angle = np.arctan(7.32 * x / (x**2 + y**2 - (7.32/2)**2))\n",
    "        \n",
    "    if angle < 0:\n",
    "        angle = np.pi + angle\n",
    "        \n",
    "    shots_model.at[i,'Angle'] = angle\n",
    "        \n",
    "    #goal check\n",
    "    shots_model.at[i,'Goal'] = 0\n",
    "    shots_model.at[i,'Counter Attack'] = 0\n",
    "    shots_model.at[i, 'Blocked'] = 0\n",
    "    shots_model.at[i, 'Right Foot'] = 0\n",
    "    shots_model.at[i,'wyId'] = shot['playerId']\n",
    "    \n",
    "    if shot['matchPeriod'] == '1H':\n",
    "        shots_model.at[i, 'First Half'] = 1\n",
    "    \n",
    "    else:\n",
    "        shots_model.at[i,'First Half'] = 0\n",
    "        \n",
    "    for tags in shot['tags']:\n",
    "        if tags['id'] == 101:\n",
    "            shots_model.at[i,'Goal'] = 1\n",
    "            \n",
    "        if tags['id'] == 1901:\n",
    "            shots_model.at[i, 'Counter Attack'] = 1\n",
    "        \n",
    "        if tags['id'] == 2101:\n",
    "            shots_model.at[i, 'Blocked'] = 1\n",
    "        \n",
    "        if tags['id'] == 402:\n",
    "            shots_model.at[i, 'Right Foot'] = 1\n",
    "            \n",
    "            \n",
    "        \n",
    "shots_model['angle_degrees'] = shots_model['Angle'] * 180 / np.pi\n",
    "\n",
    "shots_model = shots_model.merge(players, left_on = 'wyId' , right_on = 'wyId')\n",
    "\n",
    "for i,shot in shots_model.iterrows():\n",
    "    shots_model.at[i, 'strong foot'] = 0\n",
    "    \n",
    "    if shot['Right Foot'] == 1:\n",
    "        if shot['foot'] == 'right':\n",
    "            shots_model.at[i, 'strong foot'] = 1\n",
    "    \n",
    "    elif shot['Right Foot'] == 0:\n",
    "        if shot['foot'] == 'left':\n",
    "            shots_model.at[i, 'strong foot'] = 1\n",
    "\n",
    "\n",
    "pitch = Pitch(pitch_color ='black', line_color = 'white', stripe=False,pitch_type='wyscout')\n",
    "\n",
    "fig,ax = pitch.draw(figsize=(10,8))\n",
    "\n",
    "df = shots_model.loc[shots_model['Goal'] == 1]\n",
    "xpos = df[\"X\"]\n",
    "ypos = df[\"Y\"]\n",
    "\n",
    "df_nongoals = shots_model.loc[shots_model['Goal'] == 0]\n",
    "xpos2 = df_nongoals[\"X\"]\n",
    "ypos2 = df_nongoals[\"Y\"]\n",
    "\n",
    "\n",
    "\n",
    "head = shots_model[shots_model['Header'] == 1]\n",
    "counter = shots_model[shots_model['Counter Attack'] == 1]\n",
    "strong = shots_model[shots_model['strong foot'] == 1]\n",
    "first = shots_model[shots_model['First Half'] == 1]\n",
    "head_df = head.loc[head['Goal'] == 1]\n",
    "strong_goal = strong.loc[strong['Goal'] == 1]\n",
    "\n",
    "headed_goals = len(head_df)"
   ]
  },
  {
   "cell_type": "code",
   "execution_count": 2,
   "metadata": {},
   "outputs": [
    {
     "name": "stdout",
     "output_type": "stream",
     "text": [
      "   Header   Distance     Angle  Counter Attack  strong foot  First Half\n",
      "0     0.0  13.891814  0.474451             0.0          1.0         1.0\n",
      "1     0.0  13.711765  0.519737             0.0          1.0         1.0\n",
      "2     0.0  14.778701  0.358683             0.0          0.0         0.0\n",
      "3     0.0  15.243113  0.337590             0.0          1.0         0.0\n",
      "4     0.0  19.602296  0.357062             0.0          1.0         1.0\n",
      "28336\n",
      "6053\n",
      "6069\n",
      "       Header   Distance     Angle  Counter Attack  strong foot  First Half\n",
      "29930     0.0  14.311010  0.415932             0.0          1.0         0.0\n",
      "18307     0.0  12.666886  0.560177             0.0          0.0         1.0\n",
      "17403     0.0  18.891929  0.241328             0.0          1.0         1.0\n",
      "21423     0.0  32.711848  0.221779             0.0          1.0         1.0\n",
      "18506     0.0  11.200893  0.601170             0.0          0.0         1.0\n",
      "       Goal\n",
      "29930     0\n",
      "18307     0\n",
      "17403     0\n",
      "21423     0\n",
      "18506     0\n"
     ]
    },
    {
     "name": "stderr",
     "output_type": "stream",
     "text": [
      "C:\\Users\\brand\\Anaconda3\\lib\\site-packages\\ipykernel_launcher.py:5: SettingWithCopyWarning: \n",
      "A value is trying to be set on a copy of a slice from a DataFrame.\n",
      "Try using .loc[row_indexer,col_indexer] = value instead\n",
      "\n",
      "See the caveats in the documentation: https://pandas.pydata.org/pandas-docs/stable/user_guide/indexing.html#returning-a-view-versus-a-copy\n",
      "  \"\"\"\n"
     ]
    }
   ],
   "source": [
    "from sklearn.model_selection import train_test_split\n",
    "\n",
    "X_full = shots_model[[\"Header\",\"Distance\", \"Angle\",\"Counter Attack\",\"strong foot\", \"First Half\"]]\n",
    "y_full = shots_model[[\"Goal\"]]\n",
    "y_full['Goal'] = y_full['Goal'].astype(int)\n",
    "print(X_full.head())\n",
    "\n",
    "X_train,X_test,y_train,y_test = train_test_split(X_full,y_full,test_size = 0.15,random_state=2)\n",
    "\n",
    "X_train,X_val,y_train,y_val = train_test_split(X_train,y_train,test_size = 0.176, random_state=2)\n",
    "\n",
    "\n",
    "print(len(X_train))\n",
    "print(len(X_val))\n",
    "print(len(X_test))\n",
    "print(X_train.head())\n",
    "print(y_train.head())\n"
   ]
  },
  {
   "cell_type": "code",
   "execution_count": 3,
   "metadata": {},
   "outputs": [
    {
     "name": "stdout",
     "output_type": "stream",
     "text": [
      "28336\n"
     ]
    }
   ],
   "source": [
    "y_val = np.array(y_val)\n",
    "yval = [i[0] for i in y_val]\n",
    "y_test = np.array(y_test)\n",
    "ytest = [i[0] for i in y_test]\n",
    "y_train = np.array(y_train)\n",
    "ytrain = [i[0] for i in y_train]\n",
    "print(len(y_train))"
   ]
  },
  {
   "cell_type": "code",
   "execution_count": 4,
   "metadata": {},
   "outputs": [
    {
     "data": {
      "text/plain": [
       "'Logistic Regression + validation of regularization parameter'"
      ]
     },
     "execution_count": 4,
     "metadata": {},
     "output_type": "execute_result"
    }
   ],
   "source": [
    "\"\"\"Logistic Regression + validation of regularization parameter\"\"\""
   ]
  },
  {
   "cell_type": "code",
   "execution_count": 5,
   "metadata": {},
   "outputs": [
    {
     "name": "stdout",
     "output_type": "stream",
     "text": [
      "[0.9017016355526185, 0.9017016355526185, 0.9020320502230299, 0.9005451842061788, 0.896745415496448, 0.8954237568148026]\n"
     ]
    }
   ],
   "source": [
    "from sklearn.linear_model import LogisticRegression\n",
    "\n",
    "\n",
    "lambdas = [0.1**i for i in range(-1,5)]\n",
    "accs = []\n",
    "\n",
    "for i in lambdas:\n",
    "    model = LogisticRegression(C=i).fit(X_train,y_train)\n",
    "    predictions = model.predict(X_val)\n",
    "    \n",
    "    correct = [(p==l) for (p,l) in zip(predictions,yval)]\n",
    "    \n",
    "    accuracy = sum(correct)/len(correct)\n",
    "    accs.append(accuracy)\n",
    "    \n",
    "    \n",
    "    \n",
    "    \n",
    "    \n",
    "print(accs)   "
   ]
  },
  {
   "cell_type": "code",
   "execution_count": 6,
   "metadata": {},
   "outputs": [
    {
     "data": {
      "text/plain": [
       "'Highest Accuracy with lambda = 1'"
      ]
     },
     "execution_count": 6,
     "metadata": {},
     "output_type": "execute_result"
    }
   ],
   "source": [
    "\"\"\"Highest Accuracy with lambda = 1\"\"\""
   ]
  },
  {
   "cell_type": "code",
   "execution_count": 7,
   "metadata": {},
   "outputs": [
    {
     "name": "stderr",
     "output_type": "stream",
     "text": [
      "C:\\Users\\brand\\Anaconda3\\lib\\site-packages\\ipykernel_launcher.py:27: RuntimeWarning: invalid value encountered in long_scalars\n",
      "C:\\Users\\brand\\Anaconda3\\lib\\site-packages\\ipykernel_launcher.py:27: RuntimeWarning: invalid value encountered in long_scalars\n"
     ]
    }
   ],
   "source": [
    "\"\"\"Check Balanced error rates, precision, ROC\"\"\"\n",
    "import matplotlib.pyplot as plt\n",
    "\n",
    "\n",
    "lambs = [1,.01,.001,.0001,.00001]\n",
    "f1 = []\n",
    "prec = []\n",
    "rec = []\n",
    "ber = []\n",
    "acc = []\n",
    "for i in lambs:\n",
    "    log = LogisticRegression(C=i).fit(X_train,ytrain)\n",
    "    predictions = log.predict(X_val)\n",
    "    \n",
    "    TP = sum([(p and l) for (p,l) in zip(predictions, yval)])\n",
    "    FP = sum([(p and not l) for (p,l) in zip(predictions, yval)])\n",
    "    TN = sum([(not p and not l) for (p,l) in zip(predictions, yval)])\n",
    "    FN = sum([(not p and l) for (p,l) in zip(predictions, yval)])\n",
    "    \n",
    "    accuracy = (TP + TN)/(TP + FP + TN + FN)\n",
    "    \n",
    "    TPR = TP/(TP+FN)\n",
    "    TNR = TN/(TN+FP)\n",
    "    \n",
    "    BER = 1 - .5 * (TPR + TNR)\n",
    "    \n",
    "    precision = TP/(TP+FP)\n",
    "    recall = TP/(TP + FN)\n",
    "    \n",
    "    F1 = 2 * (precision*recall)/(precision + recall)\n",
    "    \n",
    "    f1.append(F1)\n",
    "    prec.append(precision)\n",
    "    rec.append(recall)\n",
    "    ber.append(BER)\n",
    "    acc.append(accuracy)\n",
    "\n",
    "    "
   ]
  },
  {
   "cell_type": "code",
   "execution_count": 8,
   "metadata": {},
   "outputs": [
    {
     "data": {
      "image/png": "[encoded data removed]",
      "text/plain": [
       "<Figure size 432x288 with 1 Axes>"
      ]
     },
     "metadata": {
      "needs_background": "light"
     },
     "output_type": "display_data"
    }
   ],
   "source": [
    "\n",
    "plt.xlabel('Regularization Parameter')\n",
    "plt.xscale('log')\n",
    "plt.ylabel('Score')\n",
    "plt.title('Classification Metrics vs Regularization Parameters: Logistic Regression')\n",
    "plt.plot(lambs,f1,label='F1')\n",
    "plt.plot(lambs,prec,label='Precision')\n",
    "plt.plot(lambs,rec,label='Recall')\n",
    "plt.plot(lambs,ber,label='Balanced Error Rate')\n",
    "plt.plot(lambs,acc,label = 'Total Accuracy')\n",
    "plt.legend(loc=2)\n",
    "plt.show()\n",
    "\n"
   ]
  },
  {
   "cell_type": "code",
   "execution_count": 25,
   "metadata": {},
   "outputs": [
    {
     "name": "stdout",
     "output_type": "stream",
     "text": [
      "[(0.9975703325103313, True, 1), (0.997443610868391, True, 1), (0.9960452053799259, True, 1), (0.9960452053799259, True, 1), (0.9924154997171999, True, 1), (0.9924154997171999, True, 0), (0.9917108524975875, True, 1), (0.9915647859380068, True, 1), (0.9908768411994824, True, 1), (0.9905701069654334, True, 1), (0.9905701069654334, True, 1), (0.9905701069654334, True, 0), (0.9896957914308361, True, 1), (0.9892493089605826, True, 1), (0.9882539845394647, True, 0), (0.987417062164754, True, 1), (0.987417062164754, True, 0), (0.985661025750038, True, 1), (0.984338748970321, True, 0), (0.9814947365178995, True, 0), (0.980364350905937, True, 0), (0.9785642604990074, True, 1), (0.9779792571088302, True, 1), (0.9776463416960885, True, 1), (0.9776463416960885, True, 1), (0.9775846696752535, True, 1), (0.9755361119852513, True, 1), (0.9755006943237484, True, 0), (0.9720782354761258, True, 1), (0.9720782354761258, True, 0)]\n"
     ]
    }
   ],
   "source": [
    "\"\"\"ROC lambda = 1: Highest BER\"\"\"\n",
    "\n",
    "X_val = np.array(X_val)\n",
    "\n",
    "bestlog = LogisticRegression(C=1,class_weight='balanced').fit(X_train,ytrain)\n",
    "probs = bestlog.predict_proba(X_val)\n",
    "prediction = bestlog.predict(X_val)\n",
    "\n",
    "probY = list(zip([p[1] for p in probs], [p[1] > 0.5 for p in probs], yval))\n",
    "\n",
    "probY.sort(reverse=True)\n",
    "print(probY[0:30])\n",
    "\n"
   ]
  },
  {
   "cell_type": "code",
   "execution_count": 26,
   "metadata": {},
   "outputs": [
    {
     "data": {
      "text/plain": [
       "'Performance on Test Set'"
      ]
     },
     "execution_count": 26,
     "metadata": {},
     "output_type": "execute_result"
    }
   ],
   "source": [
    "\"\"\"Performance on Test Set\"\"\""
   ]
  },
  {
   "cell_type": "code",
   "execution_count": 27,
   "metadata": {},
   "outputs": [
    {
     "name": "stdout",
     "output_type": "stream",
     "text": [
      "Balanced Error rate: 0.28070927669805656\n",
      "Precision: 0.23774765380604795\n",
      "Recall: 0.7080745341614907\n",
      "F1 score: 0.3559718969555035\n",
      "Total Classification Accuracy: 0.7281265447355413\n",
      "\n",
      "[[-0.91391737 -0.08952894  2.17268448  0.56032656  0.13241954 -0.08955069]]\n"
     ]
    }
   ],
   "source": [
    "test_predictions = bestlog.predict(X_test)\n",
    "\n",
    "TP = sum([(p and l) for (p,l) in zip(test_predictions, ytest)])\n",
    "FP = sum([(p and not l) for (p,l) in zip(test_predictions, ytest)])\n",
    "TN = sum([(not p and not l) for (p,l) in zip(test_predictions, ytest)])\n",
    "FN = sum([(not p and l) for (p,l) in zip(test_predictions, ytest)])\n",
    "    \n",
    "TPR = TP/(TP+FN)\n",
    "TNR = TN/(TN+FP)\n",
    "    \n",
    "BER = 1 - .5 * (TPR + TNR)\n",
    "    \n",
    "precision = TP/(TP+FP)\n",
    "recall = TP/(TP + FN)\n",
    "    \n",
    "F1 = 2 * (precision*recall)/(precision + recall)\n",
    "\n",
    "accuracy = (TP + TN)/(TP + FP + TN + FN)\n",
    "    \n",
    "print(\"Balanced Error rate: \" + str(BER))\n",
    "print(\"Precision: \" + str(precision))\n",
    "print('Recall: ' + str(recall))\n",
    "print('F1 score: ' + str(F1))\n",
    "print('Total Classification Accuracy: ' + str(accuracy))\n",
    "print()\n",
    "\n",
    "print(bestlog.coef_)"
   ]
  },
  {
   "cell_type": "code",
   "execution_count": 28,
   "metadata": {},
   "outputs": [
    {
     "name": "stdout",
     "output_type": "stream",
     "text": [
      "[0, 0, 0, 0, 1, 0, 0, 0, 0, 0]\n",
      "0.11533839279297464\n",
      "Coeffs\n",
      "[0.49687647]\n",
      "0.0839128583681029\n",
      "0.11533839279297464\n"
     ]
    },
    {
     "data": {
      "image/png": "[encoded data removed]",
      "text/plain": [
       "<Figure size 576x396 with 2 Axes>"
      ]
     },
     "metadata": {},
     "output_type": "display_data"
    },
    {
     "data": {
      "text/plain": [
       "<matplotlib.axes._subplots.AxesSubplot at 0x280f087db70>"
      ]
     },
     "execution_count": 28,
     "metadata": {},
     "output_type": "execute_result"
    }
   ],
   "source": [
    "from sklearn.linear_model import LinearRegression\n",
    "from sklearn.metrics import mean_squared_error, r2_score\n",
    "from yellowbrick.regressor import ResidualsPlot\n",
    "\n",
    "\n",
    "xtestprobs = bestlog.predict_proba(X_test)[:,1]\n",
    "\n",
    "Y = []\n",
    "X = []\n",
    "count1 = 0\n",
    "count2 = 0\n",
    "for i in range(len(xtestprobs)):\n",
    "    count1 += xtestprobs[i]\n",
    "    count2 += ytest[i]\n",
    "    \n",
    "    \n",
    "    X.append(count1)\n",
    "    Y.append(count2)\n",
    "    count1 = 0\n",
    "    count2 = 0\n",
    "\n",
    "print(Y[0:10])\n",
    "X = np.array(X)\n",
    "X = X.reshape(-1,1)\n",
    "\n",
    "\n",
    "\n",
    "lin = LinearRegression().fit(X,Y)\n",
    "\n",
    "print(lin.score(X,Y))\n",
    "\n",
    "lpreds = lin.predict(X)\n",
    "print('Coeffs')\n",
    "print(lin.coef_)\n",
    "\n",
    "print(mean_squared_error(Y,lpreds))\n",
    "print(r2_score(Y,lpreds))\n",
    "\n",
    "\n",
    "visualizer = ResidualsPlot(lin)\n",
    "visualizer.fit(X,Y)\n",
    "visualizer.score(X,lpreds)\n",
    "visualizer.show()"
   ]
  }
 ],
 "metadata": {
  "kernelspec": {
   "display_name": "Python 3",
   "language": "python",
   "name": "python3"
  },
  "language_info": {
   "codemirror_mode": {
    "name": "ipython",
    "version": 3
   },
   "file_extension": ".py",
   "mimetype": "text/x-python",
   "name": "python",
   "nbconvert_exporter": "python",
   "pygments_lexer": "ipython3",
   "version": "3.7.3"
  }
 },
 "nbformat": 4,
 "nbformat_minor": 2
}
