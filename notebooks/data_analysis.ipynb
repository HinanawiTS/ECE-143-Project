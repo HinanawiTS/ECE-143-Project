{
 "cells": [
  {
   "cell_type": "code",
   "execution_count": 1,
   "metadata": {},
   "outputs": [],
   "source": [
    "import pandas as pd\n",
    "import numpy as np\n",
    "import matplotlib.pyplot as plt\n",
    "import seaborn as sns\n",
    "from mplsoccer.pitch import Pitch, VerticalPitch"
   ]
  },
  {
   "cell_type": "code",
   "execution_count": 4,
   "metadata": {},
   "outputs": [],
   "source": [
    "path0 = 'data/events_England.json'\n",
    "path1 = 'data/events_Spain.json'\n",
    "path2 = 'data/events_Italy.json'\n",
    "path3 = 'data/events_France.json'\n",
    "path4 = 'data/events_Germany.json'\n",
    "path5 = 'data/events_World_Cup.json'\n",
    "path6 = 'data/events_European_Championship.json'"
   ]
  },
  {
   "cell_type": "code",
   "execution_count": 5,
   "metadata": {},
   "outputs": [],
   "source": [
    "import json\n",
    "with open(path0) as f:\n",
    "    data = json.load(f)"
   ]
  },
  {
   "cell_type": "code",
   "execution_count": 6,
   "metadata": {},
   "outputs": [],
   "source": [
    "train = pd.DataFrame(data)"
   ]
  },
  {
   "cell_type": "code",
   "execution_count": 7,
   "metadata": {},
   "outputs": [],
   "source": [
    "with open(path1) as f:\n",
    "    data1 = json.load(f)\n",
    "train1 = pd.DataFrame(data1)"
   ]
  },
  {
   "cell_type": "code",
   "execution_count": 8,
   "metadata": {},
   "outputs": [],
   "source": [
    "train = pd.concat([train, train1], join='inner', ignore_index=True)"
   ]
  },
  {
   "cell_type": "code",
   "execution_count": 9,
   "metadata": {},
   "outputs": [],
   "source": [
    "with open(path2) as f:\n",
    "    data2 = json.load(f)\n",
    "train2 = pd.DataFrame(data2)\n",
    "train = pd.concat([train, train2], join='inner', ignore_index=True)"
   ]
  },
  {
   "cell_type": "code",
   "execution_count": 10,
   "metadata": {},
   "outputs": [],
   "source": [
    "with open(path3) as f:\n",
    "    data3 = json.load(f)\n",
    "train3 = pd.DataFrame(data3)\n",
    "train = pd.concat([train, train3], join='inner', ignore_index=True)"
   ]
  },
  {
   "cell_type": "code",
   "execution_count": 11,
   "metadata": {},
   "outputs": [],
   "source": [
    "with open(path4) as f:\n",
    "    data4 = json.load(f)\n",
    "train4 = pd.DataFrame(data4)\n",
    "train = pd.concat([train, train4], join='inner', ignore_index=True)"
   ]
  },
  {
   "cell_type": "code",
   "execution_count": 12,
   "metadata": {},
   "outputs": [
    {
     "data": {
      "text/plain": [
       "36856740"
      ]
     },
     "execution_count": 12,
     "metadata": {},
     "output_type": "execute_result"
    }
   ],
   "source": [
    "train.size"
   ]
  },
  {
   "cell_type": "code",
   "execution_count": 13,
   "metadata": {},
   "outputs": [
    {
     "data": {
      "text/plain": [
       "array(['Simple pass', 'High pass', 'Head pass', 'Air duel',\n",
       "       'Ground loose ball duel', 'Smart pass', 'Launch',\n",
       "       'Ground defending duel', 'Ground attacking duel', 'Foul',\n",
       "       'Free Kick', 'Cross', 'Shot', 'Reflexes', 'Touch', 'Clearance',\n",
       "       'Ball out of the field', 'Throw in', 'Goal kick', 'Corner',\n",
       "       'Goalkeeper leaving line', 'Hand pass', 'Acceleration',\n",
       "       'Save attempt', '', 'Free kick cross', 'Free kick shot',\n",
       "       'Hand foul', 'Violent Foul', 'Protest', 'Whistle',\n",
       "       'Late card foul', 'Out of game foul', 'Penalty', 'Time lost foul',\n",
       "       'Simulation'], dtype=object)"
      ]
     },
     "execution_count": 13,
     "metadata": {},
     "output_type": "execute_result"
    }
   ],
   "source": [
    "pd.unique(train['subEventName'])"
   ]
  },
  {
   "cell_type": "code",
   "execution_count": 14,
   "metadata": {},
   "outputs": [],
   "source": [
    "shots = train[train['subEventName'] == 'Shot']"
   ]
  },
  {
   "cell_type": "code",
   "execution_count": 15,
   "metadata": {},
   "outputs": [
    {
     "data": {
      "text/html": [
       "<div>\n",
       "<style scoped>\n",
       "    .dataframe tbody tr th:only-of-type {\n",
       "        vertical-align: middle;\n",
       "    }\n",
       "\n",
       "    .dataframe tbody tr th {\n",
       "        vertical-align: top;\n",
       "    }\n",
       "\n",
       "    .dataframe thead th {\n",
       "        text-align: right;\n",
       "    }\n",
       "</style>\n",
       "<table border=\"1\" class=\"dataframe\">\n",
       "  <thead>\n",
       "    <tr style=\"text-align: right;\">\n",
       "      <th></th>\n",
       "      <th>eventId</th>\n",
       "      <th>subEventName</th>\n",
       "      <th>tags</th>\n",
       "      <th>playerId</th>\n",
       "      <th>positions</th>\n",
       "      <th>matchId</th>\n",
       "      <th>eventName</th>\n",
       "      <th>teamId</th>\n",
       "      <th>matchPeriod</th>\n",
       "      <th>eventSec</th>\n",
       "      <th>subEventId</th>\n",
       "      <th>id</th>\n",
       "    </tr>\n",
       "  </thead>\n",
       "  <tbody>\n",
       "    <tr>\n",
       "      <th>46</th>\n",
       "      <td>10</td>\n",
       "      <td>Shot</td>\n",
       "      <td>[{'id': 101}, {'id': 402}, {'id': 201}, {'id':...</td>\n",
       "      <td>25413</td>\n",
       "      <td>[{'y': 41, 'x': 88}, {'y': 0, 'x': 0}]</td>\n",
       "      <td>2499719</td>\n",
       "      <td>Shot</td>\n",
       "      <td>1609</td>\n",
       "      <td>1H</td>\n",
       "      <td>94.595788</td>\n",
       "      <td>100</td>\n",
       "      <td>177959212</td>\n",
       "    </tr>\n",
       "    <tr>\n",
       "      <th>62</th>\n",
       "      <td>10</td>\n",
       "      <td>Shot</td>\n",
       "      <td>[{'id': 401}, {'id': 201}, {'id': 1211}, {'id'...</td>\n",
       "      <td>26150</td>\n",
       "      <td>[{'y': 52, 'x': 85}, {'y': 100, 'x': 100}]</td>\n",
       "      <td>2499719</td>\n",
       "      <td>Shot</td>\n",
       "      <td>1631</td>\n",
       "      <td>1H</td>\n",
       "      <td>179.854785</td>\n",
       "      <td>100</td>\n",
       "      <td>177959247</td>\n",
       "    </tr>\n",
       "    <tr>\n",
       "      <th>91</th>\n",
       "      <td>10</td>\n",
       "      <td>Shot</td>\n",
       "      <td>[{'id': 101}, {'id': 403}, {'id': 201}, {'id':...</td>\n",
       "      <td>14763</td>\n",
       "      <td>[{'y': 52, 'x': 96}, {'y': 100, 'x': 100}]</td>\n",
       "      <td>2499719</td>\n",
       "      <td>Shot</td>\n",
       "      <td>1631</td>\n",
       "      <td>1H</td>\n",
       "      <td>254.745027</td>\n",
       "      <td>100</td>\n",
       "      <td>177959280</td>\n",
       "    </tr>\n",
       "    <tr>\n",
       "      <th>128</th>\n",
       "      <td>10</td>\n",
       "      <td>Shot</td>\n",
       "      <td>[{'id': 401}, {'id': 201}, {'id': 1215}, {'id'...</td>\n",
       "      <td>7868</td>\n",
       "      <td>[{'y': 33, 'x': 81}, {'y': 0, 'x': 0}]</td>\n",
       "      <td>2499719</td>\n",
       "      <td>Shot</td>\n",
       "      <td>1609</td>\n",
       "      <td>1H</td>\n",
       "      <td>425.824035</td>\n",
       "      <td>100</td>\n",
       "      <td>177959289</td>\n",
       "    </tr>\n",
       "    <tr>\n",
       "      <th>249</th>\n",
       "      <td>10</td>\n",
       "      <td>Shot</td>\n",
       "      <td>[{'id': 402}, {'id': 201}, {'id': 1205}, {'id'...</td>\n",
       "      <td>7868</td>\n",
       "      <td>[{'y': 30, 'x': 75}, {'y': 0, 'x': 0}]</td>\n",
       "      <td>2499719</td>\n",
       "      <td>Shot</td>\n",
       "      <td>1609</td>\n",
       "      <td>1H</td>\n",
       "      <td>815.462015</td>\n",
       "      <td>100</td>\n",
       "      <td>177959429</td>\n",
       "    </tr>\n",
       "    <tr>\n",
       "      <th>...</th>\n",
       "      <td>...</td>\n",
       "      <td>...</td>\n",
       "      <td>...</td>\n",
       "      <td>...</td>\n",
       "      <td>...</td>\n",
       "      <td>...</td>\n",
       "      <td>...</td>\n",
       "      <td>...</td>\n",
       "      <td>...</td>\n",
       "      <td>...</td>\n",
       "      <td>...</td>\n",
       "      <td>...</td>\n",
       "    </tr>\n",
       "    <tr>\n",
       "      <th>3070886</th>\n",
       "      <td>10</td>\n",
       "      <td>Shot</td>\n",
       "      <td>[{'id': 402}, {'id': 201}, {'id': 1206}, {'id'...</td>\n",
       "      <td>15191</td>\n",
       "      <td>[{'y': 63, 'x': 86}, {'y': 0, 'x': 0}]</td>\n",
       "      <td>2517044</td>\n",
       "      <td>Shot</td>\n",
       "      <td>2451</td>\n",
       "      <td>2H</td>\n",
       "      <td>920.241146</td>\n",
       "      <td>100</td>\n",
       "      <td>251206342</td>\n",
       "    </tr>\n",
       "    <tr>\n",
       "      <th>3071053</th>\n",
       "      <td>10</td>\n",
       "      <td>Shot</td>\n",
       "      <td>[{'id': 101}, {'id': 403}, {'id': 201}, {'id':...</td>\n",
       "      <td>14917</td>\n",
       "      <td>[{'y': 42, 'x': 91}, {'y': 0, 'x': 0}]</td>\n",
       "      <td>2517044</td>\n",
       "      <td>Shot</td>\n",
       "      <td>2451</td>\n",
       "      <td>2H</td>\n",
       "      <td>1552.626343</td>\n",
       "      <td>100</td>\n",
       "      <td>251206491</td>\n",
       "    </tr>\n",
       "    <tr>\n",
       "      <th>3071093</th>\n",
       "      <td>10</td>\n",
       "      <td>Shot</td>\n",
       "      <td>[{'id': 1901}, {'id': 402}, {'id': 1214}, {'id...</td>\n",
       "      <td>134708</td>\n",
       "      <td>[{'y': 38, 'x': 70}, {'y': 0, 'x': 0}]</td>\n",
       "      <td>2517044</td>\n",
       "      <td>Shot</td>\n",
       "      <td>2451</td>\n",
       "      <td>2H</td>\n",
       "      <td>1711.659947</td>\n",
       "      <td>100</td>\n",
       "      <td>251206517</td>\n",
       "    </tr>\n",
       "    <tr>\n",
       "      <th>3071367</th>\n",
       "      <td>10</td>\n",
       "      <td>Shot</td>\n",
       "      <td>[{'id': 101}, {'id': 402}, {'id': 201}, {'id':...</td>\n",
       "      <td>284469</td>\n",
       "      <td>[{'y': 30, 'x': 91}, {'y': 0, 'x': 0}]</td>\n",
       "      <td>2517044</td>\n",
       "      <td>Shot</td>\n",
       "      <td>2451</td>\n",
       "      <td>2H</td>\n",
       "      <td>2725.373600</td>\n",
       "      <td>100</td>\n",
       "      <td>251206776</td>\n",
       "    </tr>\n",
       "    <tr>\n",
       "      <th>3071385</th>\n",
       "      <td>10</td>\n",
       "      <td>Shot</td>\n",
       "      <td>[{'id': 402}, {'id': 2101}, {'id': 1802}]</td>\n",
       "      <td>94831</td>\n",
       "      <td>[{'y': 46, 'x': 83}, {'y': 100, 'x': 100}]</td>\n",
       "      <td>2517044</td>\n",
       "      <td>Shot</td>\n",
       "      <td>2463</td>\n",
       "      <td>2H</td>\n",
       "      <td>2817.761761</td>\n",
       "      <td>100</td>\n",
       "      <td>251206865</td>\n",
       "    </tr>\n",
       "  </tbody>\n",
       "</table>\n",
       "<p>40461 rows × 12 columns</p>\n",
       "</div>"
      ],
      "text/plain": [
       "         eventId subEventName  \\\n",
       "46            10         Shot   \n",
       "62            10         Shot   \n",
       "91            10         Shot   \n",
       "128           10         Shot   \n",
       "249           10         Shot   \n",
       "...          ...          ...   \n",
       "3070886       10         Shot   \n",
       "3071053       10         Shot   \n",
       "3071093       10         Shot   \n",
       "3071367       10         Shot   \n",
       "3071385       10         Shot   \n",
       "\n",
       "                                                      tags  playerId  \\\n",
       "46       [{'id': 101}, {'id': 402}, {'id': 201}, {'id':...     25413   \n",
       "62       [{'id': 401}, {'id': 201}, {'id': 1211}, {'id'...     26150   \n",
       "91       [{'id': 101}, {'id': 403}, {'id': 201}, {'id':...     14763   \n",
       "128      [{'id': 401}, {'id': 201}, {'id': 1215}, {'id'...      7868   \n",
       "249      [{'id': 402}, {'id': 201}, {'id': 1205}, {'id'...      7868   \n",
       "...                                                    ...       ...   \n",
       "3070886  [{'id': 402}, {'id': 201}, {'id': 1206}, {'id'...     15191   \n",
       "3071053  [{'id': 101}, {'id': 403}, {'id': 201}, {'id':...     14917   \n",
       "3071093  [{'id': 1901}, {'id': 402}, {'id': 1214}, {'id...    134708   \n",
       "3071367  [{'id': 101}, {'id': 402}, {'id': 201}, {'id':...    284469   \n",
       "3071385          [{'id': 402}, {'id': 2101}, {'id': 1802}]     94831   \n",
       "\n",
       "                                          positions  matchId eventName  \\\n",
       "46           [{'y': 41, 'x': 88}, {'y': 0, 'x': 0}]  2499719      Shot   \n",
       "62       [{'y': 52, 'x': 85}, {'y': 100, 'x': 100}]  2499719      Shot   \n",
       "91       [{'y': 52, 'x': 96}, {'y': 100, 'x': 100}]  2499719      Shot   \n",
       "128          [{'y': 33, 'x': 81}, {'y': 0, 'x': 0}]  2499719      Shot   \n",
       "249          [{'y': 30, 'x': 75}, {'y': 0, 'x': 0}]  2499719      Shot   \n",
       "...                                             ...      ...       ...   \n",
       "3070886      [{'y': 63, 'x': 86}, {'y': 0, 'x': 0}]  2517044      Shot   \n",
       "3071053      [{'y': 42, 'x': 91}, {'y': 0, 'x': 0}]  2517044      Shot   \n",
       "3071093      [{'y': 38, 'x': 70}, {'y': 0, 'x': 0}]  2517044      Shot   \n",
       "3071367      [{'y': 30, 'x': 91}, {'y': 0, 'x': 0}]  2517044      Shot   \n",
       "3071385  [{'y': 46, 'x': 83}, {'y': 100, 'x': 100}]  2517044      Shot   \n",
       "\n",
       "         teamId matchPeriod     eventSec subEventId         id  \n",
       "46         1609          1H    94.595788        100  177959212  \n",
       "62         1631          1H   179.854785        100  177959247  \n",
       "91         1631          1H   254.745027        100  177959280  \n",
       "128        1609          1H   425.824035        100  177959289  \n",
       "249        1609          1H   815.462015        100  177959429  \n",
       "...         ...         ...          ...        ...        ...  \n",
       "3070886    2451          2H   920.241146        100  251206342  \n",
       "3071053    2451          2H  1552.626343        100  251206491  \n",
       "3071093    2451          2H  1711.659947        100  251206517  \n",
       "3071367    2451          2H  2725.373600        100  251206776  \n",
       "3071385    2463          2H  2817.761761        100  251206865  \n",
       "\n",
       "[40461 rows x 12 columns]"
      ]
     },
     "execution_count": 15,
     "metadata": {},
     "output_type": "execute_result"
    }
   ],
   "source": [
    "shots"
   ]
  },
  {
   "cell_type": "code",
   "execution_count": 16,
   "metadata": {},
   "outputs": [],
   "source": [
    "shots_model = pd.DataFrame(columns=[\"Goal\",\"X\",\"Y\"], dtype=object)"
   ]
  },
  {
   "cell_type": "code",
   "execution_count": 20,
   "metadata": {},
   "outputs": [],
   "source": [
    "with open('data/players.json') as f:\n",
    "    play = json.load(f)\n",
    "players = pd.DataFrame(play)"
   ]
  },
  {
   "cell_type": "code",
   "execution_count": 21,
   "metadata": {},
   "outputs": [],
   "source": [
    "for i,shot in shots.iterrows():\n",
    "    \n",
    "    \n",
    "    shots_model.at[i,'Header'] = 0\n",
    "    for tag in shot['tags']:\n",
    "        if tag['id'] == 403:\n",
    "            shots_model.at[i,'Header'] = 1\n",
    "    \n",
    "    \n",
    "    #take distance from center of goal at y = 50, x position of goal is always 100\n",
    "    shots_model.at[i,'X'] = 100-shot['positions'][0]['x']\n",
    "    shots_model.at[i,'Y'] = shot['positions'][0]['y']\n",
    "    shots_model.at[i,'C'] = abs(shot['positions'][0]['y'] - 50)\n",
    "        \n",
    "    #distance in meters\n",
    "        \n",
    "    x = shots_model.at[i,'X']* 105/100\n",
    "    y = shots_model.at[i,'C']* 65/100\n",
    "    shots_model.at[i,'Distance'] = np.sqrt(x**2 + y**2)\n",
    "        \n",
    "    angle = np.arctan(7.32 * x / (x**2 + y**2 - (7.32/2)**2))\n",
    "        \n",
    "    if angle < 0:\n",
    "        angle = np.pi + angle\n",
    "        \n",
    "    shots_model.at[i,'Angle'] = angle\n",
    "        \n",
    "    #goal check\n",
    "    shots_model.at[i,'Goal'] = 0\n",
    "    shots_model.at[i,'Counter Attack'] = 0\n",
    "    shots_model.at[i, 'Blocked'] = 0\n",
    "    shots_model.at[i, 'Right Foot'] = 0\n",
    "    shots_model.at[i,'wyId'] = shot['playerId']\n",
    "    \n",
    "    if shot['matchPeriod'] == '1H':\n",
    "        shots_model.at[i, 'First Half'] = 1\n",
    "    \n",
    "    else:\n",
    "        shots_model.at[i,'First Half'] = 0\n",
    "        \n",
    "    for tags in shot['tags']:\n",
    "        if tags['id'] == 101:\n",
    "            shots_model.at[i,'Goal'] = 1\n",
    "            \n",
    "        if tags['id'] == 1901:\n",
    "            shots_model.at[i, 'Counter Attack'] = 1\n",
    "        \n",
    "        if tags['id'] == 2101:\n",
    "            shots_model.at[i, 'Blocked'] = 1\n",
    "        \n",
    "        if tags['id'] == 402:\n",
    "            shots_model.at[i, 'Right Foot'] = 1\n"
   ]
  },
  {
   "cell_type": "code",
   "execution_count": 22,
   "metadata": {},
   "outputs": [],
   "source": [
    "shots_model['angle_degrees'] = shots_model['Angle'] * 180 / np.pi\n",
    "\n",
    "shots_model = shots_model.merge(players, left_on = 'wyId' , right_on = 'wyId')\n",
    "\n",
    "for i,shot in shots_model.iterrows():\n",
    "    shots_model.at[i, 'strong foot'] = 0\n",
    "    \n",
    "    if shot['Right Foot'] == 1:\n",
    "        if shot['foot'] == 'right':\n",
    "            shots_model.at[i, 'strong foot'] = 1\n",
    "    \n",
    "    elif shot['Right Foot'] == 0:\n",
    "        if shot['foot'] == 'left':\n",
    "            shots_model.at[i, 'strong foot'] = 1"
   ]
  },
  {
   "cell_type": "code",
   "execution_count": 40,
   "metadata": {},
   "outputs": [
    {
     "data": {
      "text/plain": [
       "0"
      ]
     },
     "execution_count": 40,
     "metadata": {},
     "output_type": "execute_result"
    }
   ],
   "source": [
    "shots_goal = shots_model[shots_model['Goal']==1]\n",
    "shots_miss = shots_model[shots_model['Goal']==0]"
   ]
  },
  {
   "cell_type": "code",
   "execution_count": 47,
   "metadata": {},
   "outputs": [
    {
     "data": {
      "image/png": "[encoded data removed]",
      "text/plain": [
       "<Figure size 720x576 with 1 Axes>"
      ]
     },
     "metadata": {},
     "output_type": "display_data"
    },
    {
     "data": {
      "image/png": "[encoded data removed]",
      "text/plain": [
       "<Figure size 720x576 with 1 Axes>"
      ]
     },
     "metadata": {},
     "output_type": "display_data"
    }
   ],
   "source": [
    "pitch = Pitch(pitch_color ='black', line_color = 'white', stripe=False,pitch_type='wyscout')\n",
    "\n",
    "fig,ax = pitch.draw(figsize=(10,8))\n",
    "\n",
    "xpos = shots_goal['X']\n",
    "ypos = shots_goal['Y']\n",
    "\n",
    "xpos2 = shots_miss['X']\n",
    "ypos2 = shots_miss['Y']\n",
    "\n",
    "\n",
    "sc1 = pitch.scatter(xpos, ypos,\n",
    "                    # size varies between 100 and 1900 (points squared)\n",
    "                    s=7,\n",
    "                      # give the markers a charcoal border\n",
    "                    c='cyan',  # no facecolor for the markers\n",
    "                    \n",
    "                    # for other markers types see: https://matplotlib.org/api/markers_api.html\n",
    "                    marker='o',ax=ax )\n",
    "\n",
    "\n",
    "\n",
    "\n",
    "pitch2 = VerticalPitch(pitch_color ='white', line_color = 'grey', stripe=False,pitch_type='wyscout')\n",
    "\n",
    "fig,ax = pitch.draw(figsize=(10,8))\n",
    "\n",
    "sc2 = pitch.scatter(xpos2, ypos2,\n",
    "                    # size varies between 100 and 1900 (points squared)\n",
    "                    s=1,\n",
    "                      # give the markers a charcoal border\n",
    "                    c='red',  # no facecolor for the markers\n",
    "                    \n",
    "                    # for other markers types see: https://matplotlib.org/api/markers_api.html\n",
    "                    marker='o',ax=ax )\n"
   ]
  },
  {
   "cell_type": "code",
   "execution_count": 50,
   "metadata": {},
   "outputs": [
    {
     "data": {
      "text/plain": [
       "['Goal',\n",
       " 'X',\n",
       " 'Y',\n",
       " 'Header',\n",
       " 'C',\n",
       " 'Distance',\n",
       " 'Angle',\n",
       " 'Counter Attack',\n",
       " 'Blocked',\n",
       " 'Right Foot',\n",
       " 'wyId',\n",
       " 'First Half',\n",
       " 'angle_degrees',\n",
       " 'passportArea',\n",
       " 'weight',\n",
       " 'firstName',\n",
       " 'middleName',\n",
       " 'lastName',\n",
       " 'currentTeamId',\n",
       " 'birthDate',\n",
       " 'height',\n",
       " 'role',\n",
       " 'birthArea',\n",
       " 'foot',\n",
       " 'shortName',\n",
       " 'currentNationalTeamId',\n",
       " 'strong foot']"
      ]
     },
     "execution_count": 50,
     "metadata": {},
     "output_type": "execute_result"
    }
   ],
   "source": [
    "shots_model.columns.tolist()"
   ]
  },
  {
   "cell_type": "code",
   "execution_count": 75,
   "metadata": {},
   "outputs": [
    {
     "data": {
      "text/html": [
       "<div>\n",
       "<style scoped>\n",
       "    .dataframe tbody tr th:only-of-type {\n",
       "        vertical-align: middle;\n",
       "    }\n",
       "\n",
       "    .dataframe tbody tr th {\n",
       "        vertical-align: top;\n",
       "    }\n",
       "\n",
       "    .dataframe thead th {\n",
       "        text-align: right;\n",
       "    }\n",
       "</style>\n",
       "<table border=\"1\" class=\"dataframe\">\n",
       "  <thead>\n",
       "    <tr style=\"text-align: right;\">\n",
       "      <th></th>\n",
       "      <th>Angle</th>\n",
       "      <th>angle_degrees</th>\n",
       "      <th>First Half</th>\n",
       "    </tr>\n",
       "  </thead>\n",
       "  <tbody>\n",
       "    <tr>\n",
       "      <th>0</th>\n",
       "      <td>0.474451</td>\n",
       "      <td>27.184065</td>\n",
       "      <td>1.0</td>\n",
       "    </tr>\n",
       "    <tr>\n",
       "      <th>1</th>\n",
       "      <td>0.519737</td>\n",
       "      <td>29.778736</td>\n",
       "      <td>1.0</td>\n",
       "    </tr>\n",
       "    <tr>\n",
       "      <th>2</th>\n",
       "      <td>0.358683</td>\n",
       "      <td>20.551047</td>\n",
       "      <td>0.0</td>\n",
       "    </tr>\n",
       "    <tr>\n",
       "      <th>3</th>\n",
       "      <td>0.337590</td>\n",
       "      <td>19.342501</td>\n",
       "      <td>0.0</td>\n",
       "    </tr>\n",
       "    <tr>\n",
       "      <th>4</th>\n",
       "      <td>0.357062</td>\n",
       "      <td>20.458134</td>\n",
       "      <td>1.0</td>\n",
       "    </tr>\n",
       "    <tr>\n",
       "      <th>...</th>\n",
       "      <td>...</td>\n",
       "      <td>...</td>\n",
       "      <td>...</td>\n",
       "    </tr>\n",
       "    <tr>\n",
       "      <th>40453</th>\n",
       "      <td>0.264934</td>\n",
       "      <td>15.179611</td>\n",
       "      <td>1.0</td>\n",
       "    </tr>\n",
       "    <tr>\n",
       "      <th>40454</th>\n",
       "      <td>0.234189</td>\n",
       "      <td>13.418065</td>\n",
       "      <td>1.0</td>\n",
       "    </tr>\n",
       "    <tr>\n",
       "      <th>40455</th>\n",
       "      <td>0.491234</td>\n",
       "      <td>28.145656</td>\n",
       "      <td>0.0</td>\n",
       "    </tr>\n",
       "    <tr>\n",
       "      <th>40456</th>\n",
       "      <td>0.519737</td>\n",
       "      <td>29.778736</td>\n",
       "      <td>1.0</td>\n",
       "    </tr>\n",
       "    <tr>\n",
       "      <th>40457</th>\n",
       "      <td>0.265457</td>\n",
       "      <td>15.209553</td>\n",
       "      <td>0.0</td>\n",
       "    </tr>\n",
       "  </tbody>\n",
       "</table>\n",
       "<p>40458 rows × 3 columns</p>\n",
       "</div>"
      ],
      "text/plain": [
       "          Angle  angle_degrees  First Half\n",
       "0      0.474451      27.184065         1.0\n",
       "1      0.519737      29.778736         1.0\n",
       "2      0.358683      20.551047         0.0\n",
       "3      0.337590      19.342501         0.0\n",
       "4      0.357062      20.458134         1.0\n",
       "...         ...            ...         ...\n",
       "40453  0.264934      15.179611         1.0\n",
       "40454  0.234189      13.418065         1.0\n",
       "40455  0.491234      28.145656         0.0\n",
       "40456  0.519737      29.778736         1.0\n",
       "40457  0.265457      15.209553         0.0\n",
       "\n",
       "[40458 rows x 3 columns]"
      ]
     },
     "execution_count": 75,
     "metadata": {},
     "output_type": "execute_result"
    }
   ],
   "source": [
    "shots_model.loc[:, ['Angle', 'angle_degrees', 'First Half']]"
   ]
  },
  {
   "cell_type": "code",
   "execution_count": 139,
   "metadata": {},
   "outputs": [],
   "source": [
    "df = shots_model.loc[:, [ 'X', 'Y', 'Distance', 'angle_degrees', 'Right Foot', 'Header', 'Counter Attack', 'Goal', 'First Half']]"
   ]
  },
  {
   "cell_type": "code",
   "execution_count": 149,
   "metadata": {},
   "outputs": [],
   "source": [
    "df = df.apply(lambda x:x.astype('float'))"
   ]
  },
  {
   "cell_type": "code",
   "execution_count": 1,
   "metadata": {},
   "outputs": [
    {
     "ename": "NameError",
     "evalue": "name 'plt' is not defined",
     "output_type": "error",
     "traceback": [
      "\u001b[1;31m---------------------------------------------------------------------------\u001b[0m",
      "\u001b[1;31mNameError\u001b[0m                                 Traceback (most recent call last)",
      "\u001b[1;32mC:\\Users\\HINANA~1\\AppData\\Local\\Temp/ipykernel_4288/445931962.py\u001b[0m in \u001b[0;36m<module>\u001b[1;34m\u001b[0m\n\u001b[1;32m----> 1\u001b[1;33m \u001b[0mf\u001b[0m \u001b[1;33m=\u001b[0m \u001b[0mplt\u001b[0m\u001b[1;33m.\u001b[0m\u001b[0mfigure\u001b[0m\u001b[1;33m(\u001b[0m\u001b[0mfigsize\u001b[0m\u001b[1;33m=\u001b[0m\u001b[1;33m(\u001b[0m\u001b[1;36m10\u001b[0m\u001b[1;33m,\u001b[0m\u001b[1;36m5\u001b[0m\u001b[1;33m)\u001b[0m\u001b[1;33m)\u001b[0m\u001b[1;33m\u001b[0m\u001b[1;33m\u001b[0m\u001b[0m\n\u001b[0m\u001b[0;32m      2\u001b[0m \u001b[0mhtm\u001b[0m \u001b[1;33m=\u001b[0m \u001b[0msns\u001b[0m\u001b[1;33m.\u001b[0m\u001b[0mheatmap\u001b[0m\u001b[1;33m(\u001b[0m\u001b[0mdata\u001b[0m\u001b[1;33m=\u001b[0m\u001b[0mdf\u001b[0m\u001b[1;33m.\u001b[0m\u001b[0mcorr\u001b[0m\u001b[1;33m(\u001b[0m\u001b[1;33m)\u001b[0m\u001b[1;33m,\u001b[0m\u001b[0mannot\u001b[0m\u001b[1;33m=\u001b[0m\u001b[1;32mTrue\u001b[0m\u001b[1;33m,\u001b[0m\u001b[0mfmt\u001b[0m\u001b[1;33m=\u001b[0m\u001b[1;34m\".2f\"\u001b[0m\u001b[1;33m,\u001b[0m\u001b[0mlinewidths\u001b[0m\u001b[1;33m=\u001b[0m\u001b[1;36m0.3\u001b[0m\u001b[1;33m,\u001b[0m\u001b[0mlinecolor\u001b[0m\u001b[1;33m=\u001b[0m\u001b[1;34m\"grey\"\u001b[0m\u001b[1;33m,\u001b[0m\u001b[0mcmap\u001b[0m\u001b[1;33m=\u001b[0m\u001b[1;34m\"RdBu_r\"\u001b[0m\u001b[1;33m)\u001b[0m\u001b[1;33m\u001b[0m\u001b[1;33m\u001b[0m\u001b[0m\n\u001b[0;32m      3\u001b[0m \u001b[0mplt\u001b[0m\u001b[1;33m.\u001b[0m\u001b[0mtitle\u001b[0m\u001b[1;33m(\u001b[0m\u001b[1;34m'Correlation Matirx'\u001b[0m\u001b[1;33m)\u001b[0m\u001b[1;33m\u001b[0m\u001b[1;33m\u001b[0m\u001b[0m\n\u001b[0;32m      4\u001b[0m \u001b[1;33m\u001b[0m\u001b[0m\n\u001b[0;32m      5\u001b[0m \u001b[0mhtm\u001b[0m\u001b[1;33m.\u001b[0m\u001b[0mset_xticklabels\u001b[0m\u001b[1;33m(\u001b[0m\u001b[0mhtm\u001b[0m\u001b[1;33m.\u001b[0m\u001b[0mget_xmajorticklabels\u001b[0m\u001b[1;33m(\u001b[0m\u001b[1;33m)\u001b[0m\u001b[1;33m,\u001b[0m \u001b[0mfontsize\u001b[0m \u001b[1;33m=\u001b[0m \u001b[1;36m18\u001b[0m\u001b[1;33m)\u001b[0m\u001b[1;33m\u001b[0m\u001b[1;33m\u001b[0m\u001b[0m\n",
      "\u001b[1;31mNameError\u001b[0m: name 'plt' is not defined"
     ]
    }
   ],
   "source": [
    "f = plt.figure(figsize=(10,5))\n",
    "sns.heatmap(data=df.corr(),annot=True,fmt=\".2f\",linewidths=0.3,linecolor=\"grey\",cmap=\"RdBu_r\")\n",
    "plt.title('Correlation Matirx')"
   ]
  },
  {
   "cell_type": "code",
   "execution_count": 241,
   "metadata": {},
   "outputs": [
    {
     "data": {
      "text/plain": [
       "[6517.0, 20619.0, 13322.0]"
      ]
     },
     "execution_count": 241,
     "metadata": {},
     "output_type": "execute_result"
    }
   ],
   "source": [
    "body_part = pd.DataFrame(columns=['Head','Right Foot','Not Right Foot'], dtype=int)\n",
    "\n",
    "body_part.at[0,'Head']=shots_model.loc[:, ['Header']].value_counts()[1]\n",
    "body_part.at[0, 'Right Foot'] = shots_model.loc[:, ['Right Foot']].value_counts()[1]\n",
    "body_part.at[0, 'Not Right Foot'] = shots_model.loc[:, ['Right Foot']].value_counts()[0]-shots_model.loc[:, ['Header']].value_counts()[1]\n",
    "\n",
    "list(body_part.values[0])"
   ]
  },
  {
   "cell_type": "code",
   "execution_count": 293,
   "metadata": {},
   "outputs": [],
   "source": [
    "unique_goal, indices_goal = np.unique(shots_model.loc[:,['Goal']].values, return_counts=True)\n",
    "unique_half, indices_half = np.unique(shots_model.loc[:, ['First Half']].values, return_counts=True)\n",
    "unique_ca, indices_ca = np.unique(shots_model.loc[:, ['Counter Attack']].values, return_counts=True)"
   ]
  },
  {
   "cell_type": "code",
   "execution_count": 300,
   "metadata": {},
   "outputs": [
    {
     "data": {
      "image/png": "[encoded data removed]",
      "text/plain": [
       "<Figure size 1080x576 with 4 Axes>"
      ]
     },
     "metadata": {
      "needs_background": "light"
     },
     "output_type": "display_data"
    }
   ],
   "source": [
    "fig, ax = plt.subplots(2,2, figsize=(15,8))\n",
    "\n",
    "ax[0,0].barh(range(len(unique_goal)), indices_goal)\n",
    "ax[0,0].set_yticks(range(len(unique_goal)))\n",
    "ax[0,0].set_yticklabels(['0','1'])\n",
    "ax[0,0].set_title('is_Goal')\n",
    "\n",
    "ax[0,1].barh(range(len(unique_half)), indices_half)\n",
    "ax[0,1].set_yticks(range(len(unique_half)))\n",
    "ax[0,1].set_yticklabels(['1H','2H'])\n",
    "ax[0,1].set_title('matchPeriod')\n",
    "\n",
    "ax[1,0].barh(range(len(unique_ca)), indices_ca)\n",
    "ax[1,0].set_yticks(range(len(unique_ca)))\n",
    "ax[1,0].set_yticklabels(['0','1'])\n",
    "ax[1,0].set_title('is_CA')\n",
    "\n",
    "ax[1,1].barh(range(3), list(body_part.values[0]))\n",
    "ax[1,1].set_yticks(range(3))\n",
    "ax[1,1].set_yticklabels(['Head','R Foot', 'Not R Foot'])\n",
    "ax[1,1].set_title('skilled_foot')\n",
    "\n",
    "fig.text(0.5, 0, 'Frequency', ha='center')\n",
    "\n",
    "\n",
    "plt.show()"
   ]
  },
  {
   "cell_type": "code",
   "execution_count": 287,
   "metadata": {},
   "outputs": [],
   "source": [
    "unique_angle, indices_angle = np.unique(shots_model.loc[:, ['angle_degrees']].values, return_counts=True)\n",
    "unique_distance, indices_distance = np.unique(shots_model.loc[:, ['Distance']].values, return_counts=True)\n",
    "unique_x, indices_x = np.unique(shots_model.loc[:, ['X']].values, return_counts=True)\n",
    "unique_y, indices_y = np.unique(shots_model.loc[:, ['Y']].values, return_counts=True)\n"
   ]
  },
  {
   "cell_type": "code",
   "execution_count": 289,
   "metadata": {},
   "outputs": [
    {
     "data": {
      "image/png": "[encoded data removed]",
      "text/plain": [
       "<Figure size 1080x576 with 4 Axes>"
      ]
     },
     "metadata": {
      "needs_background": "light"
     },
     "output_type": "display_data"
    }
   ],
   "source": [
    "fig, ax = plt.subplots(2,2, figsize=(15,8))\n",
    "\n",
    "ax[0,0].plot(unique_angle, indices_angle)\n",
    "ax[0,0].set_title('angle_to_goal')\n",
    "\n",
    "ax[0,1].plot(unique_distance, indices_distance)\n",
    "ax[0,1].set_title('distance_to_goal_line')\n",
    "\n",
    "ax[1,0].plot(unique_x, indices_x)\n",
    "ax[1,0].set_title('x_pos_shot')\n",
    "\n",
    "ax[1,1].plot(unique_y, indices_y)\n",
    "ax[1,1].set_title('y_pos_shot')\n",
    "\n",
    "fig.text(0.5, 0, 'Value', ha='center')\n",
    "fig.text(0, 0.5, 'Frequency', ha='center', rotation='vertical')\n",
    "\n",
    "plt.show()"
   ]
  }
 ],
 "metadata": {
  "interpreter": {
   "hash": "40d3a090f54c6569ab1632332b64b2c03c39dcf918b08424e98f38b5ae0af88f"
  },
  "kernelspec": {
   "display_name": "Python 3 (ipykernel)",
   "language": "python",
   "name": "python3"
  },
  "language_info": {
   "codemirror_mode": {
    "name": "ipython",
    "version": 3
   },
   "file_extension": ".py",
   "mimetype": "text/x-python",
   "name": "python",
   "nbconvert_exporter": "python",
   "pygments_lexer": "ipython3",
   "version": "3.7.11"
  }
 },
 "nbformat": 4,
 "nbformat_minor": 2
}
